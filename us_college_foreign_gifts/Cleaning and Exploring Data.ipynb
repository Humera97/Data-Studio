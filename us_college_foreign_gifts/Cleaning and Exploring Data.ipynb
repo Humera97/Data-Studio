{
 "cells": [
  {
   "cell_type": "code",
   "execution_count": 2,
   "metadata": {},
   "outputs": [],
   "source": [
    "import pandas as pd\n",
    "import requests\n",
    "import re\n",
    "from bs4 import BeautifulSoup\n",
    "import numpy as np\n",
    "from pandas import ExcelWriter\n",
    "from pandas import ExcelFile\n",
    "import xlrd"
   ]
  },
  {
   "cell_type": "code",
   "execution_count": 11,
   "metadata": {},
   "outputs": [],
   "source": [
    "df = pd.read_excel('ForeignGifts.xls',encoding = 'latin-1', header = 1)"
   ]
  },
  {
   "cell_type": "code",
   "execution_count": 12,
   "metadata": {},
   "outputs": [
    {
     "data": {
      "text/html": [
       "<div>\n",
       "<style scoped>\n",
       "    .dataframe tbody tr th:only-of-type {\n",
       "        vertical-align: middle;\n",
       "    }\n",
       "\n",
       "    .dataframe tbody tr th {\n",
       "        vertical-align: top;\n",
       "    }\n",
       "\n",
       "    .dataframe thead th {\n",
       "        text-align: right;\n",
       "    }\n",
       "</style>\n",
       "<table border=\"1\" class=\"dataframe\">\n",
       "  <thead>\n",
       "    <tr style=\"text-align: right;\">\n",
       "      <th></th>\n",
       "      <th>ID</th>\n",
       "      <th>OPEID</th>\n",
       "      <th>Institution Name</th>\n",
       "      <th>City</th>\n",
       "      <th>State</th>\n",
       "      <th>Foreign Gift Received Date</th>\n",
       "      <th>Foreign Gift Amount</th>\n",
       "      <th>Gift Type</th>\n",
       "      <th>Country of Giftor</th>\n",
       "      <th>Giftor Name</th>\n",
       "    </tr>\n",
       "  </thead>\n",
       "  <tbody>\n",
       "    <tr>\n",
       "      <th>0</th>\n",
       "      <td>1</td>\n",
       "      <td>324200</td>\n",
       "      <td>Carnegie Mellon University</td>\n",
       "      <td>Pittsburgh</td>\n",
       "      <td>PA</td>\n",
       "      <td>2015-01-01</td>\n",
       "      <td>77391377</td>\n",
       "      <td>Contract</td>\n",
       "      <td>QATAR</td>\n",
       "      <td>Qatar Foundation for Education</td>\n",
       "    </tr>\n",
       "    <tr>\n",
       "      <th>1</th>\n",
       "      <td>2</td>\n",
       "      <td>143400</td>\n",
       "      <td>American University (The)</td>\n",
       "      <td>Washington</td>\n",
       "      <td>DC</td>\n",
       "      <td>2012-01-25</td>\n",
       "      <td>500000</td>\n",
       "      <td>Monetary Gift</td>\n",
       "      <td>BAHRAIN</td>\n",
       "      <td>Kingdom of Bahrain</td>\n",
       "    </tr>\n",
       "    <tr>\n",
       "      <th>2</th>\n",
       "      <td>3</td>\n",
       "      <td>143400</td>\n",
       "      <td>American University (The)</td>\n",
       "      <td>Washington</td>\n",
       "      <td>DC</td>\n",
       "      <td>2013-05-28</td>\n",
       "      <td>500000</td>\n",
       "      <td>Monetary Gift</td>\n",
       "      <td>BAHRAIN</td>\n",
       "      <td>Sheikh Salman Bin Al-Khalifa</td>\n",
       "    </tr>\n",
       "    <tr>\n",
       "      <th>3</th>\n",
       "      <td>4</td>\n",
       "      <td>143400</td>\n",
       "      <td>American University (The)</td>\n",
       "      <td>Washington</td>\n",
       "      <td>DC</td>\n",
       "      <td>2015-09-10</td>\n",
       "      <td>500000</td>\n",
       "      <td>Monetary Gift</td>\n",
       "      <td>KUWAIT</td>\n",
       "      <td>NaN</td>\n",
       "    </tr>\n",
       "    <tr>\n",
       "      <th>4</th>\n",
       "      <td>5</td>\n",
       "      <td>143400</td>\n",
       "      <td>American University (The)</td>\n",
       "      <td>Washington</td>\n",
       "      <td>DC</td>\n",
       "      <td>2012-05-17</td>\n",
       "      <td>610000</td>\n",
       "      <td>Monetary Gift</td>\n",
       "      <td>ENGLAND</td>\n",
       "      <td>NaN</td>\n",
       "    </tr>\n",
       "  </tbody>\n",
       "</table>\n",
       "</div>"
      ],
      "text/plain": [
       "   ID   OPEID            Institution Name        City State  \\\n",
       "0   1  324200  Carnegie Mellon University  Pittsburgh    PA   \n",
       "1   2  143400   American University (The)  Washington    DC   \n",
       "2   3  143400   American University (The)  Washington    DC   \n",
       "3   4  143400   American University (The)  Washington    DC   \n",
       "4   5  143400   American University (The)  Washington    DC   \n",
       "\n",
       "  Foreign Gift Received Date  Foreign Gift Amount      Gift Type  \\\n",
       "0                 2015-01-01             77391377       Contract   \n",
       "1                 2012-01-25               500000  Monetary Gift   \n",
       "2                 2013-05-28               500000  Monetary Gift   \n",
       "3                 2015-09-10               500000  Monetary Gift   \n",
       "4                 2012-05-17               610000  Monetary Gift   \n",
       "\n",
       "  Country of Giftor                     Giftor Name  \n",
       "0             QATAR  Qatar Foundation for Education  \n",
       "1           BAHRAIN              Kingdom of Bahrain  \n",
       "2           BAHRAIN    Sheikh Salman Bin Al-Khalifa  \n",
       "3            KUWAIT                             NaN  \n",
       "4           ENGLAND                             NaN  "
      ]
     },
     "execution_count": 12,
     "metadata": {},
     "output_type": "execute_result"
    }
   ],
   "source": [
    "df.head()"
   ]
  },
  {
   "cell_type": "code",
   "execution_count": 13,
   "metadata": {},
   "outputs": [
    {
     "data": {
      "text/plain": [
       "(21052, 10)"
      ]
     },
     "execution_count": 13,
     "metadata": {},
     "output_type": "execute_result"
    }
   ],
   "source": [
    "df.shape"
   ]
  },
  {
   "cell_type": "code",
   "execution_count": 14,
   "metadata": {},
   "outputs": [
    {
     "data": {
      "text/plain": [
       "ID                                     int64\n",
       "OPEID                                  int64\n",
       "Institution Name                      object\n",
       "City                                  object\n",
       "State                                 object\n",
       "Foreign Gift Received Date    datetime64[ns]\n",
       "Foreign Gift Amount                    int64\n",
       "Gift Type                             object\n",
       "Country of Giftor                     object\n",
       "Giftor Name                           object\n",
       "dtype: object"
      ]
     },
     "execution_count": 14,
     "metadata": {},
     "output_type": "execute_result"
    }
   ],
   "source": [
    "df.dtypes"
   ]
  },
  {
   "cell_type": "code",
   "execution_count": null,
   "metadata": {},
   "outputs": [],
   "source": []
  }
 ],
 "metadata": {
  "kernelspec": {
   "display_name": "Python 3",
   "language": "python",
   "name": "python3"
  },
  "language_info": {
   "codemirror_mode": {
    "name": "ipython",
    "version": 3
   },
   "file_extension": ".py",
   "mimetype": "text/x-python",
   "name": "python",
   "nbconvert_exporter": "python",
   "pygments_lexer": "ipython3",
   "version": "3.7.1"
  }
 },
 "nbformat": 4,
 "nbformat_minor": 2
}
