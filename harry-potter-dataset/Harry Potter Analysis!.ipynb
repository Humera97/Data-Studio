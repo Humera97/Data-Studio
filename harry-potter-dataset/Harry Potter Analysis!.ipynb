{
 "cells": [
  {
   "cell_type": "code",
   "execution_count": 1,
   "metadata": {},
   "outputs": [],
   "source": [
    "import pandas as pd\n",
    "import requests\n",
    "import re\n",
    "from bs4 import BeautifulSoup\n",
    "import numpy as np\n",
    "from pandas import ExcelWriter\n",
    "from pandas import ExcelFile\n",
    "import xlrd\n",
    "pd.options.display.max_rows = 144\n",
    "import matplotlib\n",
    "import matplotlib.pyplot as plt\n",
    "import seaborn as sns\n",
    "import fuzzywuzzy as fw\n",
    "matplotlib.rcParams['pdf.fonttype'] = 42\n",
    "\n",
    "%matplotlib inline\n"
   ]
  },
  {
   "cell_type": "code",
   "execution_count": 2,
   "metadata": {},
   "outputs": [
    {
     "name": "stdout",
     "output_type": "stream",
     "text": [
      "Requirement already satisfied: fuzzywuzzy in /Users/humeralodhi/.pyenv/versions/3.7.1/lib/python3.7/site-packages (0.17.0)\n",
      "\u001b[31msqlalchemy-migrate 0.12.0 has requirement SQLAlchemy>=0.9.6, but you'll have sqlalchemy 0.7.10 which is incompatible.\u001b[0m\n",
      "\u001b[33mYou are using pip version 10.0.1, however version 19.2.1 is available.\n",
      "You should consider upgrading via the 'pip install --upgrade pip' command.\u001b[0m\n",
      "Note: you may need to restart the kernel to use updated packages.\n"
     ]
    }
   ],
   "source": [
    "pip install fuzzywuzzy"
   ]
  },
  {
   "cell_type": "code",
   "execution_count": 3,
   "metadata": {},
   "outputs": [],
   "source": [
    "df_char = pd.read_csv('Char.csv',encoding= 'latin-1')"
   ]
  },
  {
   "cell_type": "code",
   "execution_count": 4,
   "metadata": {},
   "outputs": [
    {
     "data": {
      "text/html": [
       "<div>\n",
       "<style scoped>\n",
       "    .dataframe tbody tr th:only-of-type {\n",
       "        vertical-align: middle;\n",
       "    }\n",
       "\n",
       "    .dataframe tbody tr th {\n",
       "        vertical-align: top;\n",
       "    }\n",
       "\n",
       "    .dataframe thead th {\n",
       "        text-align: right;\n",
       "    }\n",
       "</style>\n",
       "<table border=\"1\" class=\"dataframe\">\n",
       "  <thead>\n",
       "    <tr style=\"text-align: right;\">\n",
       "      <th></th>\n",
       "      <th>Id</th>\n",
       "      <th>Name</th>\n",
       "      <th>Gender</th>\n",
       "      <th>Job</th>\n",
       "      <th>House</th>\n",
       "      <th>Wand</th>\n",
       "      <th>Patronus</th>\n",
       "      <th>Species</th>\n",
       "      <th>Blood status</th>\n",
       "      <th>Hair colour</th>\n",
       "      <th>Eye colour</th>\n",
       "      <th>Loyalty</th>\n",
       "      <th>Skills</th>\n",
       "      <th>Birth</th>\n",
       "      <th>Death</th>\n",
       "    </tr>\n",
       "  </thead>\n",
       "  <tbody>\n",
       "    <tr>\n",
       "      <th>0</th>\n",
       "      <td>1</td>\n",
       "      <td>Harry James Potter</td>\n",
       "      <td>Male</td>\n",
       "      <td>Student</td>\n",
       "      <td>Gryffindor</td>\n",
       "      <td>11\"  Holly  phoenix feather</td>\n",
       "      <td>Stag</td>\n",
       "      <td>Human</td>\n",
       "      <td>Half-blood</td>\n",
       "      <td>Black</td>\n",
       "      <td>Bright green</td>\n",
       "      <td>Albus Dumbledore | Dumbledore's Army | Order o...</td>\n",
       "      <td>Parseltongue| Defence Against the Dark Arts | ...</td>\n",
       "      <td>31 July 1980</td>\n",
       "      <td>NaN</td>\n",
       "    </tr>\n",
       "    <tr>\n",
       "      <th>1</th>\n",
       "      <td>2</td>\n",
       "      <td>Ronald Bilius Weasley</td>\n",
       "      <td>Male</td>\n",
       "      <td>Student</td>\n",
       "      <td>Gryffindor</td>\n",
       "      <td>12\" Ash unicorn tail hair</td>\n",
       "      <td>Jack Russell terrier</td>\n",
       "      <td>Human</td>\n",
       "      <td>Pure-blood</td>\n",
       "      <td>Red</td>\n",
       "      <td>Blue</td>\n",
       "      <td>Dumbledore's Army | Order of the Phoenix | Hog...</td>\n",
       "      <td>Wizard chess | Quidditch goalkeeping</td>\n",
       "      <td>1 March 1980</td>\n",
       "      <td>NaN</td>\n",
       "    </tr>\n",
       "    <tr>\n",
       "      <th>2</th>\n",
       "      <td>3</td>\n",
       "      <td>Hermione Jean Granger</td>\n",
       "      <td>Female</td>\n",
       "      <td>Student</td>\n",
       "      <td>Gryffindor</td>\n",
       "      <td>10Â¾\"  vine wood dragon heartstring</td>\n",
       "      <td>Otter</td>\n",
       "      <td>Human</td>\n",
       "      <td>Muggle-born</td>\n",
       "      <td>Brown</td>\n",
       "      <td>Brown</td>\n",
       "      <td>Dumbledore's Army | Order of the Phoenix | Hog...</td>\n",
       "      <td>Almost everything</td>\n",
       "      <td>19 September,Â 1979</td>\n",
       "      <td>NaN</td>\n",
       "    </tr>\n",
       "    <tr>\n",
       "      <th>3</th>\n",
       "      <td>4</td>\n",
       "      <td>Albus Percival Wulfric Brian Dumbledore</td>\n",
       "      <td>Male</td>\n",
       "      <td>Headmaster</td>\n",
       "      <td>Gryffindor</td>\n",
       "      <td>15\" Elder Thestral tail hair core</td>\n",
       "      <td>Phoenix</td>\n",
       "      <td>Human</td>\n",
       "      <td>Half-blood</td>\n",
       "      <td>Silver| formerly auburn</td>\n",
       "      <td>Blue</td>\n",
       "      <td>Dumbledore's Army | Order of the Phoenix | Hog...</td>\n",
       "      <td>Considered by many to be one of the most power...</td>\n",
       "      <td>Late August 1881</td>\n",
       "      <td>30 June,Â 1997</td>\n",
       "    </tr>\n",
       "    <tr>\n",
       "      <th>4</th>\n",
       "      <td>5</td>\n",
       "      <td>Rubeus Hagrid</td>\n",
       "      <td>Male</td>\n",
       "      <td>Keeper of Keys and Grounds | Professor of Care...</td>\n",
       "      <td>Gryffindor</td>\n",
       "      <td>16\"  Oak unknown core</td>\n",
       "      <td>None</td>\n",
       "      <td>Half-Human/Half-Giant</td>\n",
       "      <td>Part-HumanÂ (Half-giant)</td>\n",
       "      <td>Black</td>\n",
       "      <td>Black</td>\n",
       "      <td>Albus Dumbledore | Order of the Phoenix | Hogw...</td>\n",
       "      <td>Resistant to stunning spells| above average st...</td>\n",
       "      <td>6 DecemberÂ 1928</td>\n",
       "      <td>NaN</td>\n",
       "    </tr>\n",
       "  </tbody>\n",
       "</table>\n",
       "</div>"
      ],
      "text/plain": [
       "   Id                                     Name  Gender  \\\n",
       "0   1                       Harry James Potter    Male   \n",
       "1   2                    Ronald Bilius Weasley    Male   \n",
       "2   3                    Hermione Jean Granger  Female   \n",
       "3   4  Albus Percival Wulfric Brian Dumbledore    Male   \n",
       "4   5                            Rubeus Hagrid    Male   \n",
       "\n",
       "                                                 Job       House  \\\n",
       "0                                            Student  Gryffindor   \n",
       "1                                            Student  Gryffindor   \n",
       "2                                            Student  Gryffindor   \n",
       "3                                         Headmaster  Gryffindor   \n",
       "4  Keeper of Keys and Grounds | Professor of Care...  Gryffindor   \n",
       "\n",
       "                                  Wand              Patronus  \\\n",
       "0          11\"  Holly  phoenix feather                  Stag   \n",
       "1            12\" Ash unicorn tail hair  Jack Russell terrier   \n",
       "2  10Â¾\"  vine wood dragon heartstring                 Otter   \n",
       "3    15\" Elder Thestral tail hair core               Phoenix   \n",
       "4                16\"  Oak unknown core                  None   \n",
       "\n",
       "                 Species              Blood status              Hair colour  \\\n",
       "0                  Human                Half-blood                    Black   \n",
       "1                  Human                Pure-blood                      Red   \n",
       "2                  Human               Muggle-born                    Brown   \n",
       "3                  Human                Half-blood  Silver| formerly auburn   \n",
       "4  Half-Human/Half-Giant  Part-HumanÂ (Half-giant)                    Black   \n",
       "\n",
       "     Eye colour                                            Loyalty  \\\n",
       "0  Bright green  Albus Dumbledore | Dumbledore's Army | Order o...   \n",
       "1          Blue  Dumbledore's Army | Order of the Phoenix | Hog...   \n",
       "2         Brown  Dumbledore's Army | Order of the Phoenix | Hog...   \n",
       "3          Blue  Dumbledore's Army | Order of the Phoenix | Hog...   \n",
       "4         Black  Albus Dumbledore | Order of the Phoenix | Hogw...   \n",
       "\n",
       "                                              Skills                Birth  \\\n",
       "0  Parseltongue| Defence Against the Dark Arts | ...         31 July 1980   \n",
       "1               Wizard chess | Quidditch goalkeeping         1 March 1980   \n",
       "2                                  Almost everything  19 September,Â 1979   \n",
       "3  Considered by many to be one of the most power...     Late August 1881   \n",
       "4  Resistant to stunning spells| above average st...     6 DecemberÂ 1928   \n",
       "\n",
       "            Death  \n",
       "0             NaN  \n",
       "1             NaN  \n",
       "2             NaN  \n",
       "3  30 June,Â 1997  \n",
       "4             NaN  "
      ]
     },
     "execution_count": 4,
     "metadata": {},
     "output_type": "execute_result"
    }
   ],
   "source": [
    "df_char.head()"
   ]
  },
  {
   "cell_type": "code",
   "execution_count": 5,
   "metadata": {},
   "outputs": [],
   "source": [
    "df1 = pd.read_csv(\"HP1.csv\",encoding = 'latin-1')"
   ]
  },
  {
   "cell_type": "code",
   "execution_count": 6,
   "metadata": {},
   "outputs": [],
   "source": [
    "df2 = pd.read_csv(\"HP2.csv\",encoding = 'latin-1')"
   ]
  },
  {
   "cell_type": "code",
   "execution_count": 7,
   "metadata": {},
   "outputs": [],
   "source": [
    "df3 = pd.read_csv(\"HP3.csv\",encoding = 'latin-1')"
   ]
  },
  {
   "cell_type": "code",
   "execution_count": 8,
   "metadata": {},
   "outputs": [],
   "source": [
    "df_potion = pd.read_csv(\"Potions.csv\",encoding = 'latin-1')"
   ]
  },
  {
   "cell_type": "code",
   "execution_count": 9,
   "metadata": {},
   "outputs": [],
   "source": [
    "df_spell = pd.read_csv(\"Spells.csv\",encoding = 'latin-1')"
   ]
  },
  {
   "cell_type": "code",
   "execution_count": 10,
   "metadata": {},
   "outputs": [
    {
     "data": {
      "text/html": [
       "<div>\n",
       "<style scoped>\n",
       "    .dataframe tbody tr th:only-of-type {\n",
       "        vertical-align: middle;\n",
       "    }\n",
       "\n",
       "    .dataframe tbody tr th {\n",
       "        vertical-align: top;\n",
       "    }\n",
       "\n",
       "    .dataframe thead th {\n",
       "        text-align: right;\n",
       "    }\n",
       "</style>\n",
       "<table border=\"1\" class=\"dataframe\">\n",
       "  <thead>\n",
       "    <tr style=\"text-align: right;\">\n",
       "      <th></th>\n",
       "      <th>Character</th>\n",
       "      <th>Sentence</th>\n",
       "    </tr>\n",
       "  </thead>\n",
       "  <tbody>\n",
       "    <tr>\n",
       "      <th>0</th>\n",
       "      <td>Dumbledore</td>\n",
       "      <td>I should've known that you would be here, Prof...</td>\n",
       "    </tr>\n",
       "    <tr>\n",
       "      <th>1</th>\n",
       "      <td>McGonagall</td>\n",
       "      <td>Good evening, Professor Dumbledore.</td>\n",
       "    </tr>\n",
       "    <tr>\n",
       "      <th>2</th>\n",
       "      <td>McGonagall</td>\n",
       "      <td>Are the rumors true, Albus?</td>\n",
       "    </tr>\n",
       "    <tr>\n",
       "      <th>3</th>\n",
       "      <td>Dumbledore</td>\n",
       "      <td>I'm afraid so, professor.</td>\n",
       "    </tr>\n",
       "    <tr>\n",
       "      <th>4</th>\n",
       "      <td>Dumbledore</td>\n",
       "      <td>The good and the bad.</td>\n",
       "    </tr>\n",
       "  </tbody>\n",
       "</table>\n",
       "</div>"
      ],
      "text/plain": [
       "    Character                                           Sentence\n",
       "0  Dumbledore  I should've known that you would be here, Prof...\n",
       "1  McGonagall                Good evening, Professor Dumbledore.\n",
       "2  McGonagall                        Are the rumors true, Albus?\n",
       "3  Dumbledore                          I'm afraid so, professor.\n",
       "4  Dumbledore                              The good and the bad."
      ]
     },
     "execution_count": 10,
     "metadata": {},
     "output_type": "execute_result"
    }
   ],
   "source": [
    "df1.head()"
   ]
  },
  {
   "cell_type": "code",
   "execution_count": 11,
   "metadata": {},
   "outputs": [],
   "source": [
    "df1.Character = df1.Character.str.strip()"
   ]
  },
  {
   "cell_type": "code",
   "execution_count": 12,
   "metadata": {},
   "outputs": [
    {
     "data": {
      "text/plain": [
       "Harry            330\n",
       "Hagrid           215\n",
       "Ron              210\n",
       "Hermione         170\n",
       "Dumbledore        75\n",
       "McGonagall        64\n",
       "Petunia           45\n",
       "Vernon            37\n",
       "Quirrell          36\n",
       "Malfoy            36\n",
       "Snape             33\n",
       "Voldemort         26\n",
       "Madam Hooch       25\n",
       "Oliver            24\n",
       "Percy             23\n",
       "Filch             22\n",
       "Ollivander        20\n",
       "Sorting Hat       19\n",
       "Neville           16\n",
       "Dudley            15\n",
       "Firenze           14\n",
       "Flitwick          13\n",
       "Lee Jordan        12\n",
       "Seamus            11\n",
       "Mrs. Weasley      11\n",
       "Sir Nicholas       8\n",
       "George             7\n",
       "Boy                7\n",
       "Fred               7\n",
       "Griphook           5\n",
       "Girl               5\n",
       "Man                5\n",
       "Class              4\n",
       "Ron and Harry      3\n",
       "BarkeepÂ Tom       3\n",
       "Hermoine           3\n",
       "Trainmaster        2\n",
       "Lee  Jordan        2\n",
       "Draco              2\n",
       "Goblin             2\n",
       "Witch              2\n",
       "All                2\n",
       "Flint              2\n",
       "Crowd              2\n",
       "Man in paint       1\n",
       "Dean               1\n",
       "Whispers           1\n",
       "Fat Lady           1\n",
       "OIiver             1\n",
       "Ginny              1\n",
       "Snake              1\n",
       "All 3              1\n",
       "Students           1\n",
       "Gryffindors        1\n",
       "Woman              1\n",
       "Someone            1\n",
       "Name: Character, dtype: int64"
      ]
     },
     "execution_count": 12,
     "metadata": {},
     "output_type": "execute_result"
    }
   ],
   "source": [
    "df1.Character.value_counts()"
   ]
  },
  {
   "cell_type": "code",
   "execution_count": 13,
   "metadata": {},
   "outputs": [],
   "source": [
    "df1.Character = df1.Character.str.replace('Hermoine', 'Hermione',regex = True)"
   ]
  },
  {
   "cell_type": "code",
   "execution_count": 14,
   "metadata": {},
   "outputs": [],
   "source": [
    "df1.Character = df1.Character.str.replace('OIiver', 'Oliver',regex = True)"
   ]
  },
  {
   "cell_type": "code",
   "execution_count": 15,
   "metadata": {},
   "outputs": [],
   "source": [
    "df1.Character = df1.Character.str.replace('Draco', 'Malfoy',regex = True)"
   ]
  },
  {
   "cell_type": "code",
   "execution_count": 95,
   "metadata": {},
   "outputs": [
    {
     "data": {
      "text/html": [
       "<div>\n",
       "<style scoped>\n",
       "    .dataframe tbody tr th:only-of-type {\n",
       "        vertical-align: middle;\n",
       "    }\n",
       "\n",
       "    .dataframe tbody tr th {\n",
       "        vertical-align: top;\n",
       "    }\n",
       "\n",
       "    .dataframe thead th {\n",
       "        text-align: right;\n",
       "    }\n",
       "</style>\n",
       "<table border=\"1\" class=\"dataframe\">\n",
       "  <thead>\n",
       "    <tr style=\"text-align: right;\">\n",
       "      <th></th>\n",
       "      <th>index</th>\n",
       "      <th>book1</th>\n",
       "    </tr>\n",
       "  </thead>\n",
       "  <tbody>\n",
       "    <tr>\n",
       "      <th>0</th>\n",
       "      <td>Harry</td>\n",
       "      <td>330</td>\n",
       "    </tr>\n",
       "    <tr>\n",
       "      <th>1</th>\n",
       "      <td>Hagrid</td>\n",
       "      <td>215</td>\n",
       "    </tr>\n",
       "    <tr>\n",
       "      <th>2</th>\n",
       "      <td>Ron</td>\n",
       "      <td>210</td>\n",
       "    </tr>\n",
       "    <tr>\n",
       "      <th>3</th>\n",
       "      <td>Hermione</td>\n",
       "      <td>173</td>\n",
       "    </tr>\n",
       "    <tr>\n",
       "      <th>4</th>\n",
       "      <td>Dumbledore</td>\n",
       "      <td>75</td>\n",
       "    </tr>\n",
       "  </tbody>\n",
       "</table>\n",
       "</div>"
      ],
      "text/plain": [
       "        index  book1\n",
       "0       Harry    330\n",
       "1      Hagrid    215\n",
       "2         Ron    210\n",
       "3    Hermione    173\n",
       "4  Dumbledore     75"
      ]
     },
     "execution_count": 95,
     "metadata": {},
     "output_type": "execute_result"
    }
   ],
   "source": [
    "df1counts = df1.Character.value_counts().to_frame('counts')\n",
    "df1counts = df1counts.rename(columns={'counts' : 'book1'})\n",
    "df1counts = df1counts.reset_index()\n",
    "df1counts.head()"
   ]
  },
  {
   "cell_type": "code",
   "execution_count": 17,
   "metadata": {},
   "outputs": [],
   "source": [
    "df2.Character = df2.Character.str.strip()"
   ]
  },
  {
   "cell_type": "code",
   "execution_count": 18,
   "metadata": {},
   "outputs": [
    {
     "data": {
      "text/plain": [
       "HARRY                       390\n",
       "RON                         175\n",
       "HERMIONE                    122\n",
       "GILDEROY LOCKHART           113\n",
       "DUMBLEDORE                   88\n",
       "HAGRID                       82\n",
       "LUCIUS MALFOY                75\n",
       "TOM RIDDLE                   70\n",
       "DOBBY                        69\n",
       "MCGONAGALL                   66\n",
       "DRACO                        55\n",
       "MRS. WEASLEY                 54\n",
       "UNCLE VERNON                 32\n",
       "SNAPE                        27\n",
       "MOANING MYRTLE               25\n",
       "MR. WEASLEY                  21\n",
       "FILCH                        21\n",
       "ARAGOG                       20\n",
       "PROFESSOR SPROUT             20\n",
       "VOICE                        16\n",
       "WOOD                         14\n",
       "MADAM POMFREY                13\n",
       "MR. BORGIN                   10\n",
       "FUDGE                        10\n",
       "PERCY                         9\n",
       "LOCKHART                      8\n",
       "NEVILLE                       8\n",
       "FRED                          7\n",
       "GINNY                         6\n",
       "PHOTOGRAPHER                  6\n",
       "SIR NICHOLAS                  6\n",
       "DUDLEY                        5\n",
       "DIARY                         5\n",
       "SEAMUS                        4\n",
       "LEE JORDAN                    4\n",
       "SORTING HAT                   4\n",
       "HARRY AND RON                 4\n",
       "COLIN                         3\n",
       "GEORGE                        3\n",
       "AUNT PETUNIA                  3\n",
       "FLINT                         3\n",
       "WITCH                         3\n",
       "STUDENT                       3\n",
       "VERNON                        2\n",
       "FRED, GEORGE, RON             1\n",
       "FRED, GEORGE, RON, HARRY      1\n",
       "SLYTHERINS                    1\n",
       "HARRY-RON-HERMIONE            1\n",
       "CLASS                         1\n",
       "PENELOPE CLEARWATER           1\n",
       "CORNISH PIXIES                1\n",
       "DEAN                          1\n",
       "TRAINMASTER                   1\n",
       "PETUNIA                       1\n",
       "AUNTÂ PETUNIAÂ & DUDLEY       1\n",
       "MAN                           1\n",
       "CRABBE                        1\n",
       "JUSTIN FINCH-FLETCHLEY        1\n",
       "BOY                           1\n",
       "PICTURE                       1\n",
       "Name: Character, dtype: int64"
      ]
     },
     "execution_count": 18,
     "metadata": {},
     "output_type": "execute_result"
    }
   ],
   "source": [
    "df2.Character.value_counts()"
   ]
  },
  {
   "cell_type": "code",
   "execution_count": 19,
   "metadata": {},
   "outputs": [],
   "source": [
    "df2.Character = df2.Character.str.replace('UNCLE VERNON', 'VERNON',regex = True)"
   ]
  },
  {
   "cell_type": "code",
   "execution_count": 20,
   "metadata": {},
   "outputs": [],
   "source": [
    "df2.Character = df2.Character.str.replace('AUNT PETUNIA', 'PETUNIA',regex = True)\n",
    "df2.Character = df2.Character.str.replace('GILDEROY LOCKHART', 'LOCKHART',regex = True)\n"
   ]
  },
  {
   "cell_type": "code",
   "execution_count": 98,
   "metadata": {},
   "outputs": [],
   "source": [
    "df2.Character = df2.Character.str.replace('DRACO', 'MALFOY',regex = True)"
   ]
  },
  {
   "cell_type": "code",
   "execution_count": 99,
   "metadata": {},
   "outputs": [
    {
     "data": {
      "text/plain": [
       "HARRY                       390\n",
       "RON                         175\n",
       "HERMIONE                    122\n",
       "LOCKHART                    121\n",
       "DUMBLEDORE                   88\n",
       "HAGRID                       82\n",
       "LUCIUS MALFOY                75\n",
       "TOM RIDDLE                   70\n",
       "DOBBY                        69\n",
       "MCGONAGALL                   66\n",
       "MALFOY                       55\n",
       "MRS. WEASLEY                 54\n",
       "VERNON                       34\n",
       "SNAPE                        27\n",
       "MOANING MYRTLE               25\n",
       "MR. WEASLEY                  21\n",
       "FILCH                        21\n",
       "PROFESSOR SPROUT             20\n",
       "ARAGOG                       20\n",
       "VOICE                        16\n",
       "WOOD                         14\n",
       "MADAM POMFREY                13\n",
       "MR. BORGIN                   10\n",
       "FUDGE                        10\n",
       "PERCY                         9\n",
       "NEVILLE                       8\n",
       "FRED                          7\n",
       "PHOTOGRAPHER                  6\n",
       "SIR NICHOLAS                  6\n",
       "GINNY                         6\n",
       "DUDLEY                        5\n",
       "DIARY                         5\n",
       "PETUNIA                       4\n",
       "LEE JORDAN                    4\n",
       "HARRY AND RON                 4\n",
       "SORTING HAT                   4\n",
       "SEAMUS                        4\n",
       "GEORGE                        3\n",
       "STUDENT                       3\n",
       "FLINT                         3\n",
       "WITCH                         3\n",
       "COLIN                         3\n",
       "FRED, GEORGE, RON             1\n",
       "CLASS                         1\n",
       "FRED, GEORGE, RON, HARRY      1\n",
       "HARRY-RON-HERMIONE            1\n",
       "SLYTHERINS                    1\n",
       "TRAINMASTER                   1\n",
       "CRABBE                        1\n",
       "CORNISH PIXIES                1\n",
       "DEAN                          1\n",
       "PICTURE                       1\n",
       "AUNTÂ PETUNIAÂ & DUDLEY       1\n",
       "BOY                           1\n",
       "PENELOPE CLEARWATER           1\n",
       "MAN                           1\n",
       "JUSTIN FINCH-FLETCHLEY        1\n",
       "Name: Character, dtype: int64"
      ]
     },
     "execution_count": 99,
     "metadata": {},
     "output_type": "execute_result"
    }
   ],
   "source": [
    "df2.Character.value_counts()"
   ]
  },
  {
   "cell_type": "code",
   "execution_count": 100,
   "metadata": {},
   "outputs": [
    {
     "data": {
      "text/html": [
       "<div>\n",
       "<style scoped>\n",
       "    .dataframe tbody tr th:only-of-type {\n",
       "        vertical-align: middle;\n",
       "    }\n",
       "\n",
       "    .dataframe tbody tr th {\n",
       "        vertical-align: top;\n",
       "    }\n",
       "\n",
       "    .dataframe thead th {\n",
       "        text-align: right;\n",
       "    }\n",
       "</style>\n",
       "<table border=\"1\" class=\"dataframe\">\n",
       "  <thead>\n",
       "    <tr style=\"text-align: right;\">\n",
       "      <th></th>\n",
       "      <th>index</th>\n",
       "      <th>book2</th>\n",
       "    </tr>\n",
       "  </thead>\n",
       "  <tbody>\n",
       "    <tr>\n",
       "      <th>0</th>\n",
       "      <td>HARRY</td>\n",
       "      <td>390</td>\n",
       "    </tr>\n",
       "    <tr>\n",
       "      <th>1</th>\n",
       "      <td>RON</td>\n",
       "      <td>175</td>\n",
       "    </tr>\n",
       "    <tr>\n",
       "      <th>2</th>\n",
       "      <td>HERMIONE</td>\n",
       "      <td>122</td>\n",
       "    </tr>\n",
       "    <tr>\n",
       "      <th>3</th>\n",
       "      <td>LOCKHART</td>\n",
       "      <td>121</td>\n",
       "    </tr>\n",
       "    <tr>\n",
       "      <th>4</th>\n",
       "      <td>DUMBLEDORE</td>\n",
       "      <td>88</td>\n",
       "    </tr>\n",
       "  </tbody>\n",
       "</table>\n",
       "</div>"
      ],
      "text/plain": [
       "        index  book2\n",
       "0       HARRY    390\n",
       "1         RON    175\n",
       "2    HERMIONE    122\n",
       "3    LOCKHART    121\n",
       "4  DUMBLEDORE     88"
      ]
     },
     "execution_count": 100,
     "metadata": {},
     "output_type": "execute_result"
    }
   ],
   "source": [
    "df2counts = df2.Character.value_counts().to_frame('counts')\n",
    "df2counts = df2counts.rename(columns={'counts' : 'book2'})\n",
    "df2counts = df2counts.reset_index()\n",
    "df2counts.head()"
   ]
  },
  {
   "cell_type": "code",
   "execution_count": 101,
   "metadata": {},
   "outputs": [],
   "source": [
    "df3.CHARACTER = df3.CHARACTER.str.strip()"
   ]
  },
  {
   "cell_type": "code",
   "execution_count": 105,
   "metadata": {},
   "outputs": [],
   "source": [
    "df3.CHARACTER = df3.CHARACTER.str.replace('DRACO', 'MALFOY',regex = True)"
   ]
  },
  {
   "cell_type": "code",
   "execution_count": 111,
   "metadata": {},
   "outputs": [],
   "source": [
    "df3.CHARACTER = df3.CHARACTER.str.replace('AUNT PETUNIA', 'PETUNIA',regex = True)"
   ]
  },
  {
   "cell_type": "code",
   "execution_count": 112,
   "metadata": {},
   "outputs": [],
   "source": [
    "df3.CHARACTER = df3.CHARACTER.str.replace('UNCLE VERNON', 'VERNON',regex = True)"
   ]
  },
  {
   "cell_type": "code",
   "execution_count": 113,
   "metadata": {},
   "outputs": [
    {
     "data": {
      "text/plain": [
       "HARRY              308\n",
       "LUPIN              207\n",
       "HERMIONE           193\n",
       "RON                151\n",
       "HAGRID              97\n",
       "DUMBLEDORE          76\n",
       "SIRIUS              70\n",
       "SNAPE               61\n",
       "FUDGE               55\n",
       "TRELAWNEY           39\n",
       "MALFOY              38\n",
       "AUNT MARGE          37\n",
       "STAN SHUNPIKE       28\n",
       "FRED                25\n",
       "MCGONAGALL          22\n",
       "GEORGE              22\n",
       "PETTIGREW           19\n",
       "VERNON              19\n",
       "MR. WEASLEY         18\n",
       "SEAMUS              16\n",
       "SHRUNKEN HEAD       16\n",
       "MADAM ROSMERTA      13\n",
       "NEVILLE             12\n",
       "PERCY               12\n",
       "MRS. WEASLEY        10\n",
       "FAT LADY             9\n",
       "BEM                  8\n",
       "FILCH                7\n",
       "PETUNIA              6\n",
       "VOICE                5\n",
       "FRED & GEORGE        4\n",
       "TOM                  4\n",
       "GOYLE                4\n",
       "SHRUNKEN HEAD 1      3\n",
       "DEAN                 3\n",
       "SHRUNKEN HEAD 2      3\n",
       "CLASS                2\n",
       "BOY                  2\n",
       "MAN                  2\n",
       "CRABBE               2\n",
       "GINNY                1\n",
       "BOY 1                1\n",
       "WITCH                1\n",
       "HOUSEKEEPER          1\n",
       "PARVATI              1\n",
       "TEACHER              1\n",
       "PANSY PARKINSON      1\n",
       "BOY 2                1\n",
       "VENDOR               1\n",
       "CROWD                1\n",
       "Name: CHARACTER, dtype: int64"
      ]
     },
     "execution_count": 113,
     "metadata": {},
     "output_type": "execute_result"
    }
   ],
   "source": [
    "df3.CHARACTER.value_counts()"
   ]
  },
  {
   "cell_type": "code",
   "execution_count": 114,
   "metadata": {},
   "outputs": [
    {
     "data": {
      "text/html": [
       "<div>\n",
       "<style scoped>\n",
       "    .dataframe tbody tr th:only-of-type {\n",
       "        vertical-align: middle;\n",
       "    }\n",
       "\n",
       "    .dataframe tbody tr th {\n",
       "        vertical-align: top;\n",
       "    }\n",
       "\n",
       "    .dataframe thead th {\n",
       "        text-align: right;\n",
       "    }\n",
       "</style>\n",
       "<table border=\"1\" class=\"dataframe\">\n",
       "  <thead>\n",
       "    <tr style=\"text-align: right;\">\n",
       "      <th></th>\n",
       "      <th>index</th>\n",
       "      <th>book3</th>\n",
       "    </tr>\n",
       "  </thead>\n",
       "  <tbody>\n",
       "    <tr>\n",
       "      <th>0</th>\n",
       "      <td>HARRY</td>\n",
       "      <td>308</td>\n",
       "    </tr>\n",
       "    <tr>\n",
       "      <th>1</th>\n",
       "      <td>LUPIN</td>\n",
       "      <td>207</td>\n",
       "    </tr>\n",
       "    <tr>\n",
       "      <th>2</th>\n",
       "      <td>HERMIONE</td>\n",
       "      <td>193</td>\n",
       "    </tr>\n",
       "    <tr>\n",
       "      <th>3</th>\n",
       "      <td>RON</td>\n",
       "      <td>151</td>\n",
       "    </tr>\n",
       "    <tr>\n",
       "      <th>4</th>\n",
       "      <td>HAGRID</td>\n",
       "      <td>97</td>\n",
       "    </tr>\n",
       "  </tbody>\n",
       "</table>\n",
       "</div>"
      ],
      "text/plain": [
       "      index  book3\n",
       "0     HARRY    308\n",
       "1     LUPIN    207\n",
       "2  HERMIONE    193\n",
       "3       RON    151\n",
       "4    HAGRID     97"
      ]
     },
     "execution_count": 114,
     "metadata": {},
     "output_type": "execute_result"
    }
   ],
   "source": [
    "df3counts = df3.CHARACTER.value_counts().to_frame('counts')\n",
    "df3counts = df3counts.rename(columns={'counts' : 'book3'})\n",
    "df3counts = df3counts.reset_index()\n",
    "df3counts.head()"
   ]
  },
  {
   "cell_type": "code",
   "execution_count": 24,
   "metadata": {},
   "outputs": [
    {
     "data": {
      "text/plain": [
       "Male      90\n",
       "Female    49\n",
       "Name: Gender, dtype: int64"
      ]
     },
     "execution_count": 24,
     "metadata": {},
     "output_type": "execute_result"
    }
   ],
   "source": [
    "df_char.Gender.value_counts()"
   ]
  },
  {
   "cell_type": "code",
   "execution_count": 25,
   "metadata": {},
   "outputs": [
    {
     "data": {
      "text/html": [
       "<div>\n",
       "<style scoped>\n",
       "    .dataframe tbody tr th:only-of-type {\n",
       "        vertical-align: middle;\n",
       "    }\n",
       "\n",
       "    .dataframe tbody tr th {\n",
       "        vertical-align: top;\n",
       "    }\n",
       "\n",
       "    .dataframe thead th {\n",
       "        text-align: right;\n",
       "    }\n",
       "</style>\n",
       "<table border=\"1\" class=\"dataframe\">\n",
       "  <thead>\n",
       "    <tr style=\"text-align: right;\">\n",
       "      <th></th>\n",
       "      <th>Id</th>\n",
       "      <th>Name</th>\n",
       "      <th>Gender</th>\n",
       "      <th>Job</th>\n",
       "      <th>House</th>\n",
       "      <th>Wand</th>\n",
       "      <th>Patronus</th>\n",
       "      <th>Species</th>\n",
       "      <th>Blood status</th>\n",
       "      <th>Hair colour</th>\n",
       "      <th>Eye colour</th>\n",
       "      <th>Loyalty</th>\n",
       "      <th>Skills</th>\n",
       "      <th>Birth</th>\n",
       "      <th>Death</th>\n",
       "    </tr>\n",
       "  </thead>\n",
       "  <tbody>\n",
       "    <tr>\n",
       "      <th>0</th>\n",
       "      <td>1</td>\n",
       "      <td>Harry James Potter</td>\n",
       "      <td>Male</td>\n",
       "      <td>Student</td>\n",
       "      <td>Gryffindor</td>\n",
       "      <td>11\"  Holly  phoenix feather</td>\n",
       "      <td>Stag</td>\n",
       "      <td>Human</td>\n",
       "      <td>Half-blood</td>\n",
       "      <td>Black</td>\n",
       "      <td>Bright green</td>\n",
       "      <td>Albus Dumbledore | Dumbledore's Army | Order o...</td>\n",
       "      <td>Parseltongue| Defence Against the Dark Arts | ...</td>\n",
       "      <td>31 July 1980</td>\n",
       "      <td>NaN</td>\n",
       "    </tr>\n",
       "    <tr>\n",
       "      <th>1</th>\n",
       "      <td>2</td>\n",
       "      <td>Ronald Bilius Weasley</td>\n",
       "      <td>Male</td>\n",
       "      <td>Student</td>\n",
       "      <td>Gryffindor</td>\n",
       "      <td>12\" Ash unicorn tail hair</td>\n",
       "      <td>Jack Russell terrier</td>\n",
       "      <td>Human</td>\n",
       "      <td>Pure-blood</td>\n",
       "      <td>Red</td>\n",
       "      <td>Blue</td>\n",
       "      <td>Dumbledore's Army | Order of the Phoenix | Hog...</td>\n",
       "      <td>Wizard chess | Quidditch goalkeeping</td>\n",
       "      <td>1 March 1980</td>\n",
       "      <td>NaN</td>\n",
       "    </tr>\n",
       "    <tr>\n",
       "      <th>2</th>\n",
       "      <td>3</td>\n",
       "      <td>Hermione Jean Granger</td>\n",
       "      <td>Female</td>\n",
       "      <td>Student</td>\n",
       "      <td>Gryffindor</td>\n",
       "      <td>10Â¾\"  vine wood dragon heartstring</td>\n",
       "      <td>Otter</td>\n",
       "      <td>Human</td>\n",
       "      <td>Muggle-born</td>\n",
       "      <td>Brown</td>\n",
       "      <td>Brown</td>\n",
       "      <td>Dumbledore's Army | Order of the Phoenix | Hog...</td>\n",
       "      <td>Almost everything</td>\n",
       "      <td>19 September,Â 1979</td>\n",
       "      <td>NaN</td>\n",
       "    </tr>\n",
       "    <tr>\n",
       "      <th>3</th>\n",
       "      <td>4</td>\n",
       "      <td>Albus Percival Wulfric Brian Dumbledore</td>\n",
       "      <td>Male</td>\n",
       "      <td>Headmaster</td>\n",
       "      <td>Gryffindor</td>\n",
       "      <td>15\" Elder Thestral tail hair core</td>\n",
       "      <td>Phoenix</td>\n",
       "      <td>Human</td>\n",
       "      <td>Half-blood</td>\n",
       "      <td>Silver| formerly auburn</td>\n",
       "      <td>Blue</td>\n",
       "      <td>Dumbledore's Army | Order of the Phoenix | Hog...</td>\n",
       "      <td>Considered by many to be one of the most power...</td>\n",
       "      <td>Late August 1881</td>\n",
       "      <td>30 June,Â 1997</td>\n",
       "    </tr>\n",
       "    <tr>\n",
       "      <th>4</th>\n",
       "      <td>5</td>\n",
       "      <td>Rubeus Hagrid</td>\n",
       "      <td>Male</td>\n",
       "      <td>Keeper of Keys and Grounds | Professor of Care...</td>\n",
       "      <td>Gryffindor</td>\n",
       "      <td>16\"  Oak unknown core</td>\n",
       "      <td>None</td>\n",
       "      <td>Half-Human/Half-Giant</td>\n",
       "      <td>Part-HumanÂ (Half-giant)</td>\n",
       "      <td>Black</td>\n",
       "      <td>Black</td>\n",
       "      <td>Albus Dumbledore | Order of the Phoenix | Hogw...</td>\n",
       "      <td>Resistant to stunning spells| above average st...</td>\n",
       "      <td>6 DecemberÂ 1928</td>\n",
       "      <td>NaN</td>\n",
       "    </tr>\n",
       "  </tbody>\n",
       "</table>\n",
       "</div>"
      ],
      "text/plain": [
       "   Id                                     Name  Gender  \\\n",
       "0   1                       Harry James Potter    Male   \n",
       "1   2                    Ronald Bilius Weasley    Male   \n",
       "2   3                    Hermione Jean Granger  Female   \n",
       "3   4  Albus Percival Wulfric Brian Dumbledore    Male   \n",
       "4   5                            Rubeus Hagrid    Male   \n",
       "\n",
       "                                                 Job       House  \\\n",
       "0                                            Student  Gryffindor   \n",
       "1                                            Student  Gryffindor   \n",
       "2                                            Student  Gryffindor   \n",
       "3                                         Headmaster  Gryffindor   \n",
       "4  Keeper of Keys and Grounds | Professor of Care...  Gryffindor   \n",
       "\n",
       "                                  Wand              Patronus  \\\n",
       "0          11\"  Holly  phoenix feather                  Stag   \n",
       "1            12\" Ash unicorn tail hair  Jack Russell terrier   \n",
       "2  10Â¾\"  vine wood dragon heartstring                 Otter   \n",
       "3    15\" Elder Thestral tail hair core               Phoenix   \n",
       "4                16\"  Oak unknown core                  None   \n",
       "\n",
       "                 Species              Blood status              Hair colour  \\\n",
       "0                  Human                Half-blood                    Black   \n",
       "1                  Human                Pure-blood                      Red   \n",
       "2                  Human               Muggle-born                    Brown   \n",
       "3                  Human                Half-blood  Silver| formerly auburn   \n",
       "4  Half-Human/Half-Giant  Part-HumanÂ (Half-giant)                    Black   \n",
       "\n",
       "     Eye colour                                            Loyalty  \\\n",
       "0  Bright green  Albus Dumbledore | Dumbledore's Army | Order o...   \n",
       "1          Blue  Dumbledore's Army | Order of the Phoenix | Hog...   \n",
       "2         Brown  Dumbledore's Army | Order of the Phoenix | Hog...   \n",
       "3          Blue  Dumbledore's Army | Order of the Phoenix | Hog...   \n",
       "4         Black  Albus Dumbledore | Order of the Phoenix | Hogw...   \n",
       "\n",
       "                                              Skills                Birth  \\\n",
       "0  Parseltongue| Defence Against the Dark Arts | ...         31 July 1980   \n",
       "1               Wizard chess | Quidditch goalkeeping         1 March 1980   \n",
       "2                                  Almost everything  19 September,Â 1979   \n",
       "3  Considered by many to be one of the most power...     Late August 1881   \n",
       "4  Resistant to stunning spells| above average st...     6 DecemberÂ 1928   \n",
       "\n",
       "            Death  \n",
       "0             NaN  \n",
       "1             NaN  \n",
       "2             NaN  \n",
       "3  30 June,Â 1997  \n",
       "4             NaN  "
      ]
     },
     "execution_count": 25,
     "metadata": {},
     "output_type": "execute_result"
    }
   ],
   "source": [
    "df_char.head()"
   ]
  },
  {
   "cell_type": "code",
   "execution_count": 26,
   "metadata": {},
   "outputs": [
    {
     "data": {
      "text/html": [
       "<div>\n",
       "<style scoped>\n",
       "    .dataframe tbody tr th:only-of-type {\n",
       "        vertical-align: middle;\n",
       "    }\n",
       "\n",
       "    .dataframe tbody tr th {\n",
       "        vertical-align: top;\n",
       "    }\n",
       "\n",
       "    .dataframe thead th {\n",
       "        text-align: right;\n",
       "    }\n",
       "</style>\n",
       "<table border=\"1\" class=\"dataframe\">\n",
       "  <thead>\n",
       "    <tr style=\"text-align: right;\">\n",
       "      <th></th>\n",
       "      <th>Character</th>\n",
       "      <th>Sentence</th>\n",
       "    </tr>\n",
       "  </thead>\n",
       "  <tbody>\n",
       "    <tr>\n",
       "      <th>0</th>\n",
       "      <td>HARRY</td>\n",
       "      <td>I canât let you out, Hedwig.</td>\n",
       "    </tr>\n",
       "    <tr>\n",
       "      <th>1</th>\n",
       "      <td>HARRY</td>\n",
       "      <td>Iâm not allowed to use magic outside of scho...</td>\n",
       "    </tr>\n",
       "    <tr>\n",
       "      <th>2</th>\n",
       "      <td>HARRY</td>\n",
       "      <td>Besides, if Uncle Vernonâ¦</td>\n",
       "    </tr>\n",
       "    <tr>\n",
       "      <th>3</th>\n",
       "      <td>VERNON</td>\n",
       "      <td>Harry Potter!</td>\n",
       "    </tr>\n",
       "    <tr>\n",
       "      <th>4</th>\n",
       "      <td>HARRY</td>\n",
       "      <td>Now youâve done it.</td>\n",
       "    </tr>\n",
       "    <tr>\n",
       "      <th>5</th>\n",
       "      <td>PETUNIA</td>\n",
       "      <td>Heâs in there. Vernon...</td>\n",
       "    </tr>\n",
       "    <tr>\n",
       "      <th>6</th>\n",
       "      <td>VERNON</td>\n",
       "      <td>Iâm warning you, if you canât control that...</td>\n",
       "    </tr>\n",
       "    <tr>\n",
       "      <th>7</th>\n",
       "      <td>HARRY</td>\n",
       "      <td>But sheâs bored!</td>\n",
       "    </tr>\n",
       "    <tr>\n",
       "      <th>8</th>\n",
       "      <td>HARRY</td>\n",
       "      <td>If I could only let out for an hour or two</td>\n",
       "    </tr>\n",
       "    <tr>\n",
       "      <th>9</th>\n",
       "      <td>VERNON</td>\n",
       "      <td>Huh, huh! So you could send secret messages to...</td>\n",
       "    </tr>\n",
       "    <tr>\n",
       "      <th>10</th>\n",
       "      <td>HARRY</td>\n",
       "      <td>But I havenât had any messages from any of m...</td>\n",
       "    </tr>\n",
       "    <tr>\n",
       "      <th>11</th>\n",
       "      <td>DUDLEY</td>\n",
       "      <td>Whoâd want to be friends with you?</td>\n",
       "    </tr>\n",
       "    <tr>\n",
       "      <th>12</th>\n",
       "      <td>VERNON</td>\n",
       "      <td>I should think youâd be a little more gratef...</td>\n",
       "    </tr>\n",
       "    <tr>\n",
       "      <th>13</th>\n",
       "      <td>VERNON</td>\n",
       "      <td>Weâve raised you since you were a baby, give...</td>\n",
       "    </tr>\n",
       "    <tr>\n",
       "      <th>14</th>\n",
       "      <td>PETUNIA</td>\n",
       "      <td>Not now, Pupkins. For when the Masons arrive.</td>\n",
       "    </tr>\n",
       "    <tr>\n",
       "      <th>15</th>\n",
       "      <td>VERNON</td>\n",
       "      <td>Which should be any minute!</td>\n",
       "    </tr>\n",
       "    <tr>\n",
       "      <th>16</th>\n",
       "      <td>VERNON</td>\n",
       "      <td>Ahem...Now letâs go over our schedule once a...</td>\n",
       "    </tr>\n",
       "    <tr>\n",
       "      <th>17</th>\n",
       "      <td>VERNON</td>\n",
       "      <td>Petunia when the Masons arrive you will be...?</td>\n",
       "    </tr>\n",
       "    <tr>\n",
       "      <th>18</th>\n",
       "      <td>PETUNIA</td>\n",
       "      <td>in the lounge, waiting to welcome them graciou...</td>\n",
       "    </tr>\n",
       "    <tr>\n",
       "      <th>19</th>\n",
       "      <td>VERNON</td>\n",
       "      <td>Good! And- and Dudley, you will be...?</td>\n",
       "    </tr>\n",
       "    <tr>\n",
       "      <th>20</th>\n",
       "      <td>DUDLEY</td>\n",
       "      <td>Iâll be waiting to open the door!</td>\n",
       "    </tr>\n",
       "    <tr>\n",
       "      <th>21</th>\n",
       "      <td>VERNON</td>\n",
       "      <td>Excellent! ...And you...?</td>\n",
       "    </tr>\n",
       "    <tr>\n",
       "      <th>22</th>\n",
       "      <td>HARRY</td>\n",
       "      <td>Iâll be in my bedroom, making no noise and p...</td>\n",
       "    </tr>\n",
       "    <tr>\n",
       "      <th>23</th>\n",
       "      <td>VERNON</td>\n",
       "      <td>Too right, you will.</td>\n",
       "    </tr>\n",
       "    <tr>\n",
       "      <th>24</th>\n",
       "      <td>VERNON</td>\n",
       "      <td>With any luck, this could well be the day I ma...</td>\n",
       "    </tr>\n",
       "    <tr>\n",
       "      <th>25</th>\n",
       "      <td>VERNON</td>\n",
       "      <td>And you will not mess it up!</td>\n",
       "    </tr>\n",
       "    <tr>\n",
       "      <th>26</th>\n",
       "      <td>VERNON</td>\n",
       "      <td>Mr. and Mrs. Mason! Do come in!</td>\n",
       "    </tr>\n",
       "    <tr>\n",
       "      <th>27</th>\n",
       "      <td>DOBBY</td>\n",
       "      <td>Ha- ha- ha! Ha, ha! Ho, ho, ho! Ha, ha!</td>\n",
       "    </tr>\n",
       "    <tr>\n",
       "      <th>28</th>\n",
       "      <td>DOBBY</td>\n",
       "      <td>Harry Potter! Such an honor it is!</td>\n",
       "    </tr>\n",
       "    <tr>\n",
       "      <th>29</th>\n",
       "      <td>HARRY</td>\n",
       "      <td>Who are you?</td>\n",
       "    </tr>\n",
       "    <tr>\n",
       "      <th>30</th>\n",
       "      <td>DOBBY</td>\n",
       "      <td>Dobby sir, Dobby the house elf.</td>\n",
       "    </tr>\n",
       "    <tr>\n",
       "      <th>31</th>\n",
       "      <td>HARRY</td>\n",
       "      <td>Not to be to be rude or anything, but this isn...</td>\n",
       "    </tr>\n",
       "    <tr>\n",
       "      <th>32</th>\n",
       "      <td>DOBBY</td>\n",
       "      <td>Oh, oh yes, sir! Dobby understands!</td>\n",
       "    </tr>\n",
       "    <tr>\n",
       "      <th>33</th>\n",
       "      <td>DOBBY</td>\n",
       "      <td>Itâs just that, Dobby has come to tell you- ...</td>\n",
       "    </tr>\n",
       "    <tr>\n",
       "      <th>34</th>\n",
       "      <td>DOBBY</td>\n",
       "      <td>Dobby wonders where to begin?</td>\n",
       "    </tr>\n",
       "    <tr>\n",
       "      <th>35</th>\n",
       "      <td>HARRY</td>\n",
       "      <td>Why donât you sit down?</td>\n",
       "    </tr>\n",
       "    <tr>\n",
       "      <th>36</th>\n",
       "      <td>DOBBY</td>\n",
       "      <td>S-sit down? S-sit- sit down?</td>\n",
       "    </tr>\n",
       "    <tr>\n",
       "      <th>37</th>\n",
       "      <td>DOBBY</td>\n",
       "      <td>Oh, oh, ho. Oh, ho, ho... Oh, ho, ho.</td>\n",
       "    </tr>\n",
       "    <tr>\n",
       "      <th>38</th>\n",
       "      <td>HARRY</td>\n",
       "      <td>Dobby, ssh! Iâm sorry!</td>\n",
       "    </tr>\n",
       "    <tr>\n",
       "      <th>39</th>\n",
       "      <td>HARRY</td>\n",
       "      <td>I didnât mean to offend you, or anything.</td>\n",
       "    </tr>\n",
       "    <tr>\n",
       "      <th>40</th>\n",
       "      <td>DOBBY</td>\n",
       "      <td>Offend Dobby?</td>\n",
       "    </tr>\n",
       "    <tr>\n",
       "      <th>41</th>\n",
       "      <td>DOBBY</td>\n",
       "      <td>Dobby has heard of your greatness, sir, but ne...</td>\n",
       "    </tr>\n",
       "    <tr>\n",
       "      <th>42</th>\n",
       "      <td>HARRY</td>\n",
       "      <td>You canât have met many decent wizards then.</td>\n",
       "    </tr>\n",
       "    <tr>\n",
       "      <th>43</th>\n",
       "      <td>DOBBY</td>\n",
       "      <td>No, I havenât.</td>\n",
       "    </tr>\n",
       "    <tr>\n",
       "      <th>44</th>\n",
       "      <td>DOBBY</td>\n",
       "      <td>That was an awful thing to say.</td>\n",
       "    </tr>\n",
       "    <tr>\n",
       "      <th>45</th>\n",
       "      <td>DOBBY</td>\n",
       "      <td>Bad Dobby!</td>\n",
       "    </tr>\n",
       "    <tr>\n",
       "      <th>46</th>\n",
       "      <td>HARRY</td>\n",
       "      <td>Stop, Dobby!</td>\n",
       "    </tr>\n",
       "    <tr>\n",
       "      <th>47</th>\n",
       "      <td>DOBBY</td>\n",
       "      <td>Bad Dobby!</td>\n",
       "    </tr>\n",
       "    <tr>\n",
       "      <th>48</th>\n",
       "      <td>HARRY</td>\n",
       "      <td>Dobby, shh!</td>\n",
       "    </tr>\n",
       "    <tr>\n",
       "      <th>49</th>\n",
       "      <td>DOBBY</td>\n",
       "      <td>Baaad Dobby!</td>\n",
       "    </tr>\n",
       "    <tr>\n",
       "      <th>50</th>\n",
       "      <td>HARRY</td>\n",
       "      <td>Dobby, please stop!</td>\n",
       "    </tr>\n",
       "    <tr>\n",
       "      <th>51</th>\n",
       "      <td>VERNON</td>\n",
       "      <td>Ohh, donât mind that!</td>\n",
       "    </tr>\n",
       "    <tr>\n",
       "      <th>52</th>\n",
       "      <td>VERNON</td>\n",
       "      <td>Itâs just the cat.</td>\n",
       "    </tr>\n",
       "    <tr>\n",
       "      <th>53</th>\n",
       "      <td>DOBBY</td>\n",
       "      <td>Bad Dobby.</td>\n",
       "    </tr>\n",
       "    <tr>\n",
       "      <th>54</th>\n",
       "      <td>DOBBY</td>\n",
       "      <td>Bad Dobby!</td>\n",
       "    </tr>\n",
       "    <tr>\n",
       "      <th>55</th>\n",
       "      <td>HARRY</td>\n",
       "      <td>Stop! Stop, Dobby.</td>\n",
       "    </tr>\n",
       "    <tr>\n",
       "      <th>56</th>\n",
       "      <td>HARRY</td>\n",
       "      <td>Please be quiet!</td>\n",
       "    </tr>\n",
       "    <tr>\n",
       "      <th>57</th>\n",
       "      <td>HARRY</td>\n",
       "      <td>Are you all right?</td>\n",
       "    </tr>\n",
       "    <tr>\n",
       "      <th>58</th>\n",
       "      <td>DOBBY</td>\n",
       "      <td>Dobby had to punish himself, sir.</td>\n",
       "    </tr>\n",
       "    <tr>\n",
       "      <th>59</th>\n",
       "      <td>DOBBY</td>\n",
       "      <td>Dobby almost spoke ill of his family, sir.</td>\n",
       "    </tr>\n",
       "    <tr>\n",
       "      <th>60</th>\n",
       "      <td>HARRY</td>\n",
       "      <td>Your family?</td>\n",
       "    </tr>\n",
       "    <tr>\n",
       "      <th>61</th>\n",
       "      <td>DOBBY</td>\n",
       "      <td>The wizard family Dobby serves, sir.</td>\n",
       "    </tr>\n",
       "    <tr>\n",
       "      <th>62</th>\n",
       "      <td>DOBBY</td>\n",
       "      <td>Dobby is bound to serve one family forever.</td>\n",
       "    </tr>\n",
       "    <tr>\n",
       "      <th>63</th>\n",
       "      <td>DOBBY</td>\n",
       "      <td>If they ever knew Dobby was here...ooh...</td>\n",
       "    </tr>\n",
       "    <tr>\n",
       "      <th>64</th>\n",
       "      <td>DOBBY</td>\n",
       "      <td>But Dobby had to come.</td>\n",
       "    </tr>\n",
       "    <tr>\n",
       "      <th>65</th>\n",
       "      <td>DOBBY</td>\n",
       "      <td>Dobby has to protect Harry Potter- to warn him.</td>\n",
       "    </tr>\n",
       "    <tr>\n",
       "      <th>66</th>\n",
       "      <td>DOBBY</td>\n",
       "      <td>Harry Potter must not go back to Hogwarts Scho...</td>\n",
       "    </tr>\n",
       "    <tr>\n",
       "      <th>67</th>\n",
       "      <td>DOBBY</td>\n",
       "      <td>There is a plot, a plot to make most terrible ...</td>\n",
       "    </tr>\n",
       "    <tr>\n",
       "      <th>68</th>\n",
       "      <td>HARRY</td>\n",
       "      <td>What terrible things?</td>\n",
       "    </tr>\n",
       "    <tr>\n",
       "      <th>69</th>\n",
       "      <td>HARRY</td>\n",
       "      <td>Whoâs plotting them?</td>\n",
       "    </tr>\n",
       "    <tr>\n",
       "      <th>70</th>\n",
       "      <td>DOBBY</td>\n",
       "      <td>Ooo... er... canât... say... argh...</td>\n",
       "    </tr>\n",
       "    <tr>\n",
       "      <th>71</th>\n",
       "      <td>HARRY</td>\n",
       "      <td>Okâ I- understand. You canât- say.</td>\n",
       "    </tr>\n",
       "    <tr>\n",
       "      <th>...</th>\n",
       "      <td>...</td>\n",
       "      <td>...</td>\n",
       "    </tr>\n",
       "    <tr>\n",
       "      <th>1628</th>\n",
       "      <td>DUMBLEDORE</td>\n",
       "      <td>When the governors learned that Arthur Weasley...</td>\n",
       "    </tr>\n",
       "    <tr>\n",
       "      <th>1629</th>\n",
       "      <td>LUCIUS MALFOY</td>\n",
       "      <td>Ridiculous.</td>\n",
       "    </tr>\n",
       "    <tr>\n",
       "      <th>1630</th>\n",
       "      <td>DUMBLEDORE</td>\n",
       "      <td>Curiously, Lucius, several of them were under ...</td>\n",
       "    </tr>\n",
       "    <tr>\n",
       "      <th>1631</th>\n",
       "      <td>LUCIUS MALFOY</td>\n",
       "      <td>How dare you!</td>\n",
       "    </tr>\n",
       "    <tr>\n",
       "      <th>1632</th>\n",
       "      <td>DUMBLEDORE</td>\n",
       "      <td>Beg your pardon?</td>\n",
       "    </tr>\n",
       "    <tr>\n",
       "      <th>1633</th>\n",
       "      <td>LUCIUS MALFOY</td>\n",
       "      <td>My sole concern has always been and will alway...</td>\n",
       "    </tr>\n",
       "    <tr>\n",
       "      <th>1634</th>\n",
       "      <td>LUCIUS MALFOY</td>\n",
       "      <td>The culprit has been identified, I presume?</td>\n",
       "    </tr>\n",
       "    <tr>\n",
       "      <th>1635</th>\n",
       "      <td>DUMBLEDORE</td>\n",
       "      <td>Yes.</td>\n",
       "    </tr>\n",
       "    <tr>\n",
       "      <th>1636</th>\n",
       "      <td>LUCIUS MALFOY</td>\n",
       "      <td>And?</td>\n",
       "    </tr>\n",
       "    <tr>\n",
       "      <th>1637</th>\n",
       "      <td>LUCIUS MALFOY</td>\n",
       "      <td>Who was it?</td>\n",
       "    </tr>\n",
       "    <tr>\n",
       "      <th>1638</th>\n",
       "      <td>DUMBLEDORE</td>\n",
       "      <td>Voldemort.</td>\n",
       "    </tr>\n",
       "    <tr>\n",
       "      <th>1639</th>\n",
       "      <td>DUMBLEDORE</td>\n",
       "      <td>Only this time he chose to act through somebod...</td>\n",
       "    </tr>\n",
       "    <tr>\n",
       "      <th>1640</th>\n",
       "      <td>LUCIUS MALFOY</td>\n",
       "      <td>I see.</td>\n",
       "    </tr>\n",
       "    <tr>\n",
       "      <th>1641</th>\n",
       "      <td>DUMBLEDORE</td>\n",
       "      <td>Fortunately, our young Mr. Potter discovered it.</td>\n",
       "    </tr>\n",
       "    <tr>\n",
       "      <th>1642</th>\n",
       "      <td>DUMBLEDORE</td>\n",
       "      <td>One hopes that no more of Lord Voldemort's old...</td>\n",
       "    </tr>\n",
       "    <tr>\n",
       "      <th>1643</th>\n",
       "      <td>DUMBLEDORE</td>\n",
       "      <td>The consequences for the one responsible would...</td>\n",
       "    </tr>\n",
       "    <tr>\n",
       "      <th>1644</th>\n",
       "      <td>LUCIUS MALFOY</td>\n",
       "      <td>Well, let us hope that Mr. Potter will always ...</td>\n",
       "    </tr>\n",
       "    <tr>\n",
       "      <th>1645</th>\n",
       "      <td>HARRY</td>\n",
       "      <td>Don't worry. I will be.</td>\n",
       "    </tr>\n",
       "    <tr>\n",
       "      <th>1646</th>\n",
       "      <td>LUCIUS MALFOY</td>\n",
       "      <td>Dumbledore.</td>\n",
       "    </tr>\n",
       "    <tr>\n",
       "      <th>1647</th>\n",
       "      <td>LUCIUS MALFOY</td>\n",
       "      <td>Come, Dobby. We're leaving.</td>\n",
       "    </tr>\n",
       "    <tr>\n",
       "      <th>1648</th>\n",
       "      <td>HARRY</td>\n",
       "      <td>Sir? I wonder if I could have that?</td>\n",
       "    </tr>\n",
       "    <tr>\n",
       "      <th>1649</th>\n",
       "      <td>HARRY</td>\n",
       "      <td>Mr. Malfoy.</td>\n",
       "    </tr>\n",
       "    <tr>\n",
       "      <th>1650</th>\n",
       "      <td>HARRY</td>\n",
       "      <td>Mr. Malfoy!</td>\n",
       "    </tr>\n",
       "    <tr>\n",
       "      <th>1651</th>\n",
       "      <td>HARRY</td>\n",
       "      <td>I have something of yours.</td>\n",
       "    </tr>\n",
       "    <tr>\n",
       "      <th>1652</th>\n",
       "      <td>LUCIUS MALFOY</td>\n",
       "      <td>Mine? I don't know what you're talking about.</td>\n",
       "    </tr>\n",
       "    <tr>\n",
       "      <th>1653</th>\n",
       "      <td>HARRY</td>\n",
       "      <td>I think you do, sir.</td>\n",
       "    </tr>\n",
       "    <tr>\n",
       "      <th>1654</th>\n",
       "      <td>HARRY</td>\n",
       "      <td>I think you slipped the diary into Ginny Weasl...</td>\n",
       "    </tr>\n",
       "    <tr>\n",
       "      <th>1655</th>\n",
       "      <td>LUCIUS MALFOY</td>\n",
       "      <td>You do, do you?</td>\n",
       "    </tr>\n",
       "    <tr>\n",
       "      <th>1656</th>\n",
       "      <td>LUCIUS MALFOY</td>\n",
       "      <td>Why don't you prove it?</td>\n",
       "    </tr>\n",
       "    <tr>\n",
       "      <th>1657</th>\n",
       "      <td>LUCIUS MALFOY</td>\n",
       "      <td>Come, Dobby.</td>\n",
       "    </tr>\n",
       "    <tr>\n",
       "      <th>1658</th>\n",
       "      <td>HARRY</td>\n",
       "      <td>Open it.</td>\n",
       "    </tr>\n",
       "    <tr>\n",
       "      <th>1659</th>\n",
       "      <td>LUCIUS MALFOY</td>\n",
       "      <td>Dobby.</td>\n",
       "    </tr>\n",
       "    <tr>\n",
       "      <th>1660</th>\n",
       "      <td>DOBBY</td>\n",
       "      <td>Master has given Dobby a sock.</td>\n",
       "    </tr>\n",
       "    <tr>\n",
       "      <th>1661</th>\n",
       "      <td>LUCIUS MALFOY</td>\n",
       "      <td>What? I didn't give...</td>\n",
       "    </tr>\n",
       "    <tr>\n",
       "      <th>1662</th>\n",
       "      <td>DOBBY</td>\n",
       "      <td>Master has presented Dobby with clothes.</td>\n",
       "    </tr>\n",
       "    <tr>\n",
       "      <th>1663</th>\n",
       "      <td>DOBBY</td>\n",
       "      <td>Dobby is free.</td>\n",
       "    </tr>\n",
       "    <tr>\n",
       "      <th>1664</th>\n",
       "      <td>LUCIUS MALFOY</td>\n",
       "      <td>You lost me my servant!</td>\n",
       "    </tr>\n",
       "    <tr>\n",
       "      <th>1665</th>\n",
       "      <td>DOBBY</td>\n",
       "      <td>You shall not harm Harry Potter.</td>\n",
       "    </tr>\n",
       "    <tr>\n",
       "      <th>1666</th>\n",
       "      <td>LUCIUS MALFOY</td>\n",
       "      <td>Your parents were meddlesome fools too.</td>\n",
       "    </tr>\n",
       "    <tr>\n",
       "      <th>1667</th>\n",
       "      <td>LUCIUS MALFOY</td>\n",
       "      <td>Mark my words, Potter.</td>\n",
       "    </tr>\n",
       "    <tr>\n",
       "      <th>1668</th>\n",
       "      <td>LUCIUS MALFOY</td>\n",
       "      <td>One day soon you are going to meet the same st...</td>\n",
       "    </tr>\n",
       "    <tr>\n",
       "      <th>1669</th>\n",
       "      <td>DOBBY</td>\n",
       "      <td>Harry Potter freed Dobby.</td>\n",
       "    </tr>\n",
       "    <tr>\n",
       "      <th>1670</th>\n",
       "      <td>DOBBY</td>\n",
       "      <td>How can Dobby ever repay him?</td>\n",
       "    </tr>\n",
       "    <tr>\n",
       "      <th>1671</th>\n",
       "      <td>HARRY</td>\n",
       "      <td>Just promise me something.</td>\n",
       "    </tr>\n",
       "    <tr>\n",
       "      <th>1672</th>\n",
       "      <td>DOBBY</td>\n",
       "      <td>Anything, sir.</td>\n",
       "    </tr>\n",
       "    <tr>\n",
       "      <th>1673</th>\n",
       "      <td>HARRY</td>\n",
       "      <td>Never try to save my life again.</td>\n",
       "    </tr>\n",
       "    <tr>\n",
       "      <th>1674</th>\n",
       "      <td>STUDENT</td>\n",
       "      <td>Welcome back, Sir Nicholas.</td>\n",
       "    </tr>\n",
       "    <tr>\n",
       "      <th>1675</th>\n",
       "      <td>SIR NICHOLAS</td>\n",
       "      <td>Thank you.</td>\n",
       "    </tr>\n",
       "    <tr>\n",
       "      <th>1676</th>\n",
       "      <td>STUDENT</td>\n",
       "      <td>Good evening, Sir Nicholas.</td>\n",
       "    </tr>\n",
       "    <tr>\n",
       "      <th>1677</th>\n",
       "      <td>SIR NICHOLAS</td>\n",
       "      <td>Good evening.</td>\n",
       "    </tr>\n",
       "    <tr>\n",
       "      <th>1678</th>\n",
       "      <td>STUDENT</td>\n",
       "      <td>Good to see you, Sir Nicholas.</td>\n",
       "    </tr>\n",
       "    <tr>\n",
       "      <th>1679</th>\n",
       "      <td>SIR NICHOLAS</td>\n",
       "      <td>Thank you.</td>\n",
       "    </tr>\n",
       "    <tr>\n",
       "      <th>1680</th>\n",
       "      <td>SIR NICHOLAS</td>\n",
       "      <td>Hello.</td>\n",
       "    </tr>\n",
       "    <tr>\n",
       "      <th>1681</th>\n",
       "      <td>SIR NICHOLAS</td>\n",
       "      <td>Hermione! Welcome back.</td>\n",
       "    </tr>\n",
       "    <tr>\n",
       "      <th>1682</th>\n",
       "      <td>HERMIONE</td>\n",
       "      <td>Thanks, Sir Nicholas.</td>\n",
       "    </tr>\n",
       "    <tr>\n",
       "      <th>1683</th>\n",
       "      <td>NEVILLE</td>\n",
       "      <td>Harry. It's Hermione.</td>\n",
       "    </tr>\n",
       "    <tr>\n",
       "      <th>1684</th>\n",
       "      <td>RON</td>\n",
       "      <td>Welcome back, Hermione.</td>\n",
       "    </tr>\n",
       "    <tr>\n",
       "      <th>1685</th>\n",
       "      <td>HERMIONE</td>\n",
       "      <td>It's good to be back.</td>\n",
       "    </tr>\n",
       "    <tr>\n",
       "      <th>1686</th>\n",
       "      <td>HERMIONE</td>\n",
       "      <td>Congratulations.</td>\n",
       "    </tr>\n",
       "    <tr>\n",
       "      <th>1687</th>\n",
       "      <td>HERMIONE</td>\n",
       "      <td>I can't believe you solved it.</td>\n",
       "    </tr>\n",
       "    <tr>\n",
       "      <th>1688</th>\n",
       "      <td>HARRY</td>\n",
       "      <td>We had loads of help from you.</td>\n",
       "    </tr>\n",
       "    <tr>\n",
       "      <th>1689</th>\n",
       "      <td>HARRY</td>\n",
       "      <td>We couldn't have done it without you.</td>\n",
       "    </tr>\n",
       "    <tr>\n",
       "      <th>1690</th>\n",
       "      <td>HERMIONE</td>\n",
       "      <td>Thanks.</td>\n",
       "    </tr>\n",
       "    <tr>\n",
       "      <th>1691</th>\n",
       "      <td>MCGONAGALL</td>\n",
       "      <td>Could I have your attention, please?</td>\n",
       "    </tr>\n",
       "    <tr>\n",
       "      <th>1692</th>\n",
       "      <td>DUMBLEDORE</td>\n",
       "      <td>Before we begin the feast let us have a round ...</td>\n",
       "    </tr>\n",
       "    <tr>\n",
       "      <th>1693</th>\n",
       "      <td>DUMBLEDORE</td>\n",
       "      <td>Also, in light of the recent events as a schoo...</td>\n",
       "    </tr>\n",
       "    <tr>\n",
       "      <th>1694</th>\n",
       "      <td>HERMIONE</td>\n",
       "      <td>Oh, no.</td>\n",
       "    </tr>\n",
       "    <tr>\n",
       "      <th>1695</th>\n",
       "      <td>HAGRID</td>\n",
       "      <td>Sorry I'm late.</td>\n",
       "    </tr>\n",
       "    <tr>\n",
       "      <th>1696</th>\n",
       "      <td>HAGRID</td>\n",
       "      <td>The owl that delivered my release papers got a...</td>\n",
       "    </tr>\n",
       "    <tr>\n",
       "      <th>1697</th>\n",
       "      <td>HAGRID</td>\n",
       "      <td>Some ruddy bird called Errol.</td>\n",
       "    </tr>\n",
       "    <tr>\n",
       "      <th>1698</th>\n",
       "      <td>HAGRID</td>\n",
       "      <td>And I'd just like to say that if it hadn't bee...</td>\n",
       "    </tr>\n",
       "    <tr>\n",
       "      <th>1699</th>\n",
       "      <td>HARRY</td>\n",
       "      <td>There's no Hogwarts without you, Hagrid.</td>\n",
       "    </tr>\n",
       "  </tbody>\n",
       "</table>\n",
       "<p>1700 rows × 2 columns</p>\n",
       "</div>"
      ],
      "text/plain": [
       "          Character                                           Sentence\n",
       "0             HARRY                    I canât let you out, Hedwig. \n",
       "1             HARRY  Iâm not allowed to use magic outside of scho...\n",
       "2             HARRY                        Besides, if Uncle Vernonâ¦\n",
       "3            VERNON                                      Harry Potter!\n",
       "4             HARRY                              Now youâve done it.\n",
       "5           PETUNIA                         Heâs in there. Vernon...\n",
       "6            VERNON  Iâm warning you, if you canât control that...\n",
       "7             HARRY                                But sheâs bored! \n",
       "8             HARRY         If I could only let out for an hour or two\n",
       "9            VERNON  Huh, huh! So you could send secret messages to...\n",
       "10            HARRY  But I havenât had any messages from any of m...\n",
       "11           DUDLEY               Whoâd want to be friends with you?\n",
       "12           VERNON  I should think youâd be a little more gratef...\n",
       "13           VERNON  Weâve raised you since you were a baby, give...\n",
       "14          PETUNIA      Not now, Pupkins. For when the Masons arrive.\n",
       "15           VERNON                       Which should be any minute! \n",
       "16           VERNON  Ahem...Now letâs go over our schedule once a...\n",
       "17           VERNON     Petunia when the Masons arrive you will be...?\n",
       "18          PETUNIA  in the lounge, waiting to welcome them graciou...\n",
       "19           VERNON             Good! And- and Dudley, you will be...?\n",
       "20           DUDLEY                Iâll be waiting to open the door!\n",
       "21           VERNON                          Excellent! ...And you...?\n",
       "22            HARRY  Iâll be in my bedroom, making no noise and p...\n",
       "23           VERNON                              Too right, you will. \n",
       "24           VERNON  With any luck, this could well be the day I ma...\n",
       "25           VERNON                       And you will not mess it up!\n",
       "26           VERNON                    Mr. and Mrs. Mason! Do come in!\n",
       "27            DOBBY           Ha- ha- ha! Ha, ha! Ho, ho, ho! Ha, ha! \n",
       "28            DOBBY                 Harry Potter! Such an honor it is!\n",
       "29            HARRY                                       Who are you?\n",
       "30            DOBBY                    Dobby sir, Dobby the house elf.\n",
       "31            HARRY  Not to be to be rude or anything, but this isn...\n",
       "32            DOBBY               Oh, oh yes, sir! Dobby understands! \n",
       "33            DOBBY  Itâs just that, Dobby has come to tell you- ...\n",
       "34            DOBBY                      Dobby wonders where to begin?\n",
       "35            HARRY                          Why donât you sit down?\n",
       "36            DOBBY                      S-sit down? S-sit- sit down? \n",
       "37            DOBBY              Oh, oh, ho. Oh, ho, ho... Oh, ho, ho.\n",
       "38            HARRY                          Dobby, ssh! Iâm sorry! \n",
       "39            HARRY        I didnât mean to offend you, or anything.\n",
       "40            DOBBY                                     Offend Dobby? \n",
       "41            DOBBY  Dobby has heard of your greatness, sir, but ne...\n",
       "42            HARRY     You canât have met many decent wizards then.\n",
       "43            DOBBY                                  No, I havenât. \n",
       "44            DOBBY                   That was an awful thing to say. \n",
       "45            DOBBY                                         Bad Dobby!\n",
       "46            HARRY                                       Stop, Dobby!\n",
       "47            DOBBY                                         Bad Dobby!\n",
       "48            HARRY                                        Dobby, shh!\n",
       "49            DOBBY                                       Baaad Dobby!\n",
       "50            HARRY                                Dobby, please stop!\n",
       "51           VERNON                           Ohh, donât mind that! \n",
       "52           VERNON                               Itâs just the cat.\n",
       "53            DOBBY                                        Bad Dobby. \n",
       "54            DOBBY                                         Bad Dobby!\n",
       "55            HARRY                                Stop! Stop, Dobby. \n",
       "56            HARRY                                  Please be quiet! \n",
       "57            HARRY                                 Are you all right?\n",
       "58            DOBBY                 Dobby had to punish himself, sir. \n",
       "59            DOBBY         Dobby almost spoke ill of his family, sir.\n",
       "60            HARRY                                       Your family?\n",
       "61            DOBBY              The wizard family Dobby serves, sir. \n",
       "62            DOBBY       Dobby is bound to serve one family forever. \n",
       "63            DOBBY         If they ever knew Dobby was here...ooh... \n",
       "64            DOBBY                            But Dobby had to come. \n",
       "65            DOBBY   Dobby has to protect Harry Potter- to warn him. \n",
       "66            DOBBY  Harry Potter must not go back to Hogwarts Scho...\n",
       "67            DOBBY  There is a plot, a plot to make most terrible ...\n",
       "68            HARRY                             What terrible things? \n",
       "69            HARRY                             Whoâs plotting them?\n",
       "70            DOBBY             Ooo... er... canât... say... argh...\n",
       "71            HARRY             Okâ I- understand. You canât- say.\n",
       "...             ...                                                ...\n",
       "1628     DUMBLEDORE  When the governors learned that Arthur Weasley...\n",
       "1629  LUCIUS MALFOY                                        Ridiculous.\n",
       "1630     DUMBLEDORE  Curiously, Lucius, several of them were under ...\n",
       "1631  LUCIUS MALFOY                                      How dare you!\n",
       "1632     DUMBLEDORE                                   Beg your pardon?\n",
       "1633  LUCIUS MALFOY  My sole concern has always been and will alway...\n",
       "1634  LUCIUS MALFOY        The culprit has been identified, I presume?\n",
       "1635     DUMBLEDORE                                               Yes.\n",
       "1636  LUCIUS MALFOY                                               And?\n",
       "1637  LUCIUS MALFOY                                        Who was it?\n",
       "1638     DUMBLEDORE                                         Voldemort.\n",
       "1639     DUMBLEDORE  Only this time he chose to act through somebod...\n",
       "1640  LUCIUS MALFOY                                             I see.\n",
       "1641     DUMBLEDORE   Fortunately, our young Mr. Potter discovered it.\n",
       "1642     DUMBLEDORE  One hopes that no more of Lord Voldemort's old...\n",
       "1643     DUMBLEDORE  The consequences for the one responsible would...\n",
       "1644  LUCIUS MALFOY  Well, let us hope that Mr. Potter will always ...\n",
       "1645          HARRY                            Don't worry. I will be.\n",
       "1646  LUCIUS MALFOY                                        Dumbledore.\n",
       "1647  LUCIUS MALFOY                        Come, Dobby. We're leaving.\n",
       "1648          HARRY                Sir? I wonder if I could have that?\n",
       "1649          HARRY                                        Mr. Malfoy.\n",
       "1650          HARRY                                        Mr. Malfoy!\n",
       "1651          HARRY                         I have something of yours.\n",
       "1652  LUCIUS MALFOY      Mine? I don't know what you're talking about.\n",
       "1653          HARRY                               I think you do, sir.\n",
       "1654          HARRY  I think you slipped the diary into Ginny Weasl...\n",
       "1655  LUCIUS MALFOY                                    You do, do you?\n",
       "1656  LUCIUS MALFOY                            Why don't you prove it?\n",
       "1657  LUCIUS MALFOY                                       Come, Dobby.\n",
       "1658          HARRY                                           Open it.\n",
       "1659  LUCIUS MALFOY                                             Dobby.\n",
       "1660          DOBBY                     Master has given Dobby a sock.\n",
       "1661  LUCIUS MALFOY                             What? I didn't give...\n",
       "1662          DOBBY           Master has presented Dobby with clothes.\n",
       "1663          DOBBY                                     Dobby is free.\n",
       "1664  LUCIUS MALFOY                            You lost me my servant!\n",
       "1665          DOBBY                   You shall not harm Harry Potter.\n",
       "1666  LUCIUS MALFOY            Your parents were meddlesome fools too.\n",
       "1667  LUCIUS MALFOY                             Mark my words, Potter.\n",
       "1668  LUCIUS MALFOY  One day soon you are going to meet the same st...\n",
       "1669          DOBBY                          Harry Potter freed Dobby.\n",
       "1670          DOBBY                      How can Dobby ever repay him?\n",
       "1671          HARRY                         Just promise me something.\n",
       "1672          DOBBY                                     Anything, sir.\n",
       "1673          HARRY                   Never try to save my life again.\n",
       "1674        STUDENT                        Welcome back, Sir Nicholas.\n",
       "1675   SIR NICHOLAS                                         Thank you.\n",
       "1676        STUDENT                        Good evening, Sir Nicholas.\n",
       "1677   SIR NICHOLAS                                      Good evening.\n",
       "1678        STUDENT                     Good to see you, Sir Nicholas.\n",
       "1679   SIR NICHOLAS                                         Thank you.\n",
       "1680   SIR NICHOLAS                                             Hello.\n",
       "1681   SIR NICHOLAS                            Hermione! Welcome back.\n",
       "1682       HERMIONE                              Thanks, Sir Nicholas.\n",
       "1683        NEVILLE                              Harry. It's Hermione.\n",
       "1684            RON                            Welcome back, Hermione.\n",
       "1685       HERMIONE                              It's good to be back.\n",
       "1686       HERMIONE                                   Congratulations.\n",
       "1687       HERMIONE                     I can't believe you solved it.\n",
       "1688          HARRY                     We had loads of help from you.\n",
       "1689          HARRY              We couldn't have done it without you.\n",
       "1690       HERMIONE                                            Thanks.\n",
       "1691     MCGONAGALL               Could I have your attention, please?\n",
       "1692     DUMBLEDORE  Before we begin the feast let us have a round ...\n",
       "1693     DUMBLEDORE  Also, in light of the recent events as a schoo...\n",
       "1694       HERMIONE                                            Oh, no.\n",
       "1695         HAGRID                                    Sorry I'm late.\n",
       "1696         HAGRID  The owl that delivered my release papers got a...\n",
       "1697         HAGRID                      Some ruddy bird called Errol.\n",
       "1698         HAGRID  And I'd just like to say that if it hadn't bee...\n",
       "1699          HARRY           There's no Hogwarts without you, Hagrid.\n",
       "\n",
       "[1700 rows x 2 columns]"
      ]
     },
     "execution_count": 26,
     "metadata": {},
     "output_type": "execute_result"
    }
   ],
   "source": [
    "df2"
   ]
  },
  {
   "cell_type": "code",
   "execution_count": 28,
   "metadata": {},
   "outputs": [
    {
     "data": {
      "text/plain": [
       "Gender  House                       \n",
       "Female  Gryffindor                      12\n",
       "        Ravenclaw                        9\n",
       "        Slytherin                        6\n",
       "        Hufflepuff                       5\n",
       "        Beauxbatons Academy of Magic     3\n",
       "Male    Gryffindor                      26\n",
       "        Slytherin                       21\n",
       "        Ravenclaw                        9\n",
       "        Hufflepuff                       8\n",
       "        Durmstrang Institute             1\n",
       "Name: House, dtype: int64"
      ]
     },
     "execution_count": 28,
     "metadata": {},
     "output_type": "execute_result"
    }
   ],
   "source": [
    "df_char.groupby(by='Gender').House.value_counts()"
   ]
  },
  {
   "cell_type": "code",
   "execution_count": 31,
   "metadata": {},
   "outputs": [
    {
     "data": {
      "text/plain": [
       "Gender  Blood status                \n",
       "Female  Pure-bloodÂ orÂ half-blood      17\n",
       "        Half-blood                       8\n",
       "        Pure-blood                       6\n",
       "        Muggle-born                      3\n",
       "        Muggle                           2\n",
       "        Quarter-Veela                    2\n",
       "        Muggle-bornÂ orÂ half-blood[     1\n",
       "        Part-HumanÂ (Half-giant)         1\n",
       "        Pure-blood or half-blood         1\n",
       "        Unknown                          1\n",
       "Male    Pure-blood                      28\n",
       "        Pure-bloodÂ orÂ half-blood      20\n",
       "        Half-blood                      15\n",
       "        Pure-bloodÂ orÂ Half-blood       5\n",
       "        Muggle-born                      4\n",
       "        Muggle                           2\n",
       "        Half-blood[                      1\n",
       "        Half-bloodÂ orÂ pure-blood       1\n",
       "        Part-Goblin                      1\n",
       "        Part-HumanÂ (Half-giant)         1\n",
       "        Pure-blood or half-blood         1\n",
       "        Squib                            1\n",
       "Name: Blood status, dtype: int64"
      ]
     },
     "execution_count": 31,
     "metadata": {},
     "output_type": "execute_result"
    }
   ],
   "source": [
    "df_char.groupby(by='Gender')['Blood status'].value_counts()"
   ]
  },
  {
   "cell_type": "code",
   "execution_count": 32,
   "metadata": {},
   "outputs": [
    {
     "data": {
      "text/plain": [
       "Gender  Loyalty                                                                                                 \n",
       "Female  Dumbledore's Army |Hogwarts School of Witchcraft and Wizardry                                                9\n",
       "        Hogwarts School of Witchcraft and Wizardry                                                                   6\n",
       "        Order of the Phoenix                                                                                         5\n",
       "        Lord Voldemort Â | Death Eaters                                                                              3\n",
       "        Original Order of the Phoenix                                                                                3\n",
       "        Dumbledore's Army                                                                                            2\n",
       "        Dumbledore's Army | Order of the Phoenix | Hogwarts School of Witchcraft and Wizardry                        2\n",
       "        Albus Dumbledore | Order of the Phoenix | Hogwarts School of Witchcraft and Wizardry                         1\n",
       "        Ministry of Magic                                                                                            1\n",
       "        Ministry of Magic | Order of the Phoenix                                                                     1\n",
       "Male    Order of the Phoenix                                                                                        11\n",
       "        Lord Voldemort Â | Death Eaters                                                                              9\n",
       "        Dumbledore's Army | Order of the Phoenix | Hogwarts School of Witchcraft and Wizardry                        6\n",
       "        Dumbledore's Army |Hogwarts School of Witchcraft and Wizardry                                                5\n",
       "        Original Order of the Phoenix                                                                                5\n",
       "        Dumbledore's Army                                                                                            4\n",
       "        Minister of Magic                                                                                            4\n",
       "        Dumbledore's Army | Hogwarts School of Witchcraft and Wizardry                                               2\n",
       "        Hogwarts School of Witchcraft and Wizardry                                                                   2\n",
       "        Albus Dumbledore | Dumbledore's Army | Order of the Phoenix | Hogwarts School of Witchcraft and Wizardry     1\n",
       "        Albus Dumbledore | Order of the Phoenix | Hogwarts School of Witchcraft and Wizardry                         1\n",
       "        Gellert Grindelwald's Acolytes                                                                               1\n",
       "        Lord Voldemort                                                                                               1\n",
       "        Lord Voldemort| Death Eaters                                                                                 1\n",
       "        Order of the Phoenix | Gringotts Wizarding Bank                                                              1\n",
       "        Order of the Phoenix| British Ministry of Magic                                                              1\n",
       "        Order of the Phoenix| Hogwarts School of Witchcraft and Wizardry |British Ministry of Magic                  1\n",
       "Name: Loyalty, dtype: int64"
      ]
     },
     "execution_count": 32,
     "metadata": {},
     "output_type": "execute_result"
    }
   ],
   "source": [
    "df_char.groupby(by='Gender')['Loyalty'].value_counts()"
   ]
  },
  {
   "cell_type": "code",
   "execution_count": 34,
   "metadata": {},
   "outputs": [],
   "source": [
    "df = pd.DataFrame(columns=['Gender', 'Total Characters', 'Gryffindor', 'Hufflepuff', 'Ravenclaw', 'Slytherin',\n",
    "                           'Order of the Phoenix','Death Eaters',\"Dumbledore's Army\"])"
   ]
  },
  {
   "cell_type": "code",
   "execution_count": 35,
   "metadata": {},
   "outputs": [
    {
     "data": {
      "text/html": [
       "<div>\n",
       "<style scoped>\n",
       "    .dataframe tbody tr th:only-of-type {\n",
       "        vertical-align: middle;\n",
       "    }\n",
       "\n",
       "    .dataframe tbody tr th {\n",
       "        vertical-align: top;\n",
       "    }\n",
       "\n",
       "    .dataframe thead th {\n",
       "        text-align: right;\n",
       "    }\n",
       "</style>\n",
       "<table border=\"1\" class=\"dataframe\">\n",
       "  <thead>\n",
       "    <tr style=\"text-align: right;\">\n",
       "      <th></th>\n",
       "      <th>Gender</th>\n",
       "      <th>Total Characters</th>\n",
       "      <th>Gryffindor</th>\n",
       "      <th>Hufflepuff</th>\n",
       "      <th>Ravenclaw</th>\n",
       "      <th>Slytherin</th>\n",
       "      <th>Order of the Phoenix</th>\n",
       "      <th>Death Eaters</th>\n",
       "      <th>Dumbledore's Army</th>\n",
       "    </tr>\n",
       "  </thead>\n",
       "  <tbody>\n",
       "  </tbody>\n",
       "</table>\n",
       "</div>"
      ],
      "text/plain": [
       "Empty DataFrame\n",
       "Columns: [Gender, Total Characters, Gryffindor, Hufflepuff, Ravenclaw, Slytherin, Order of the Phoenix, Death Eaters, Dumbledore's Army]\n",
       "Index: []"
      ]
     },
     "execution_count": 35,
     "metadata": {},
     "output_type": "execute_result"
    }
   ],
   "source": [
    "df"
   ]
  },
  {
   "cell_type": "code",
   "execution_count": 36,
   "metadata": {},
   "outputs": [],
   "source": [
    "df['Gender'] = ['Male','Female']"
   ]
  },
  {
   "cell_type": "code",
   "execution_count": 37,
   "metadata": {},
   "outputs": [
    {
     "data": {
      "text/html": [
       "<div>\n",
       "<style scoped>\n",
       "    .dataframe tbody tr th:only-of-type {\n",
       "        vertical-align: middle;\n",
       "    }\n",
       "\n",
       "    .dataframe tbody tr th {\n",
       "        vertical-align: top;\n",
       "    }\n",
       "\n",
       "    .dataframe thead th {\n",
       "        text-align: right;\n",
       "    }\n",
       "</style>\n",
       "<table border=\"1\" class=\"dataframe\">\n",
       "  <thead>\n",
       "    <tr style=\"text-align: right;\">\n",
       "      <th></th>\n",
       "      <th>Gender</th>\n",
       "      <th>Total Characters</th>\n",
       "      <th>Gryffindor</th>\n",
       "      <th>Hufflepuff</th>\n",
       "      <th>Ravenclaw</th>\n",
       "      <th>Slytherin</th>\n",
       "      <th>Order of the Phoenix</th>\n",
       "      <th>Death Eaters</th>\n",
       "      <th>Dumbledore's Army</th>\n",
       "    </tr>\n",
       "  </thead>\n",
       "  <tbody>\n",
       "    <tr>\n",
       "      <th>0</th>\n",
       "      <td>Male</td>\n",
       "      <td>NaN</td>\n",
       "      <td>NaN</td>\n",
       "      <td>NaN</td>\n",
       "      <td>NaN</td>\n",
       "      <td>NaN</td>\n",
       "      <td>NaN</td>\n",
       "      <td>NaN</td>\n",
       "      <td>NaN</td>\n",
       "    </tr>\n",
       "    <tr>\n",
       "      <th>1</th>\n",
       "      <td>Female</td>\n",
       "      <td>NaN</td>\n",
       "      <td>NaN</td>\n",
       "      <td>NaN</td>\n",
       "      <td>NaN</td>\n",
       "      <td>NaN</td>\n",
       "      <td>NaN</td>\n",
       "      <td>NaN</td>\n",
       "      <td>NaN</td>\n",
       "    </tr>\n",
       "  </tbody>\n",
       "</table>\n",
       "</div>"
      ],
      "text/plain": [
       "   Gender Total Characters Gryffindor Hufflepuff Ravenclaw Slytherin  \\\n",
       "0    Male              NaN        NaN        NaN       NaN       NaN   \n",
       "1  Female              NaN        NaN        NaN       NaN       NaN   \n",
       "\n",
       "  Order of the Phoenix Death Eaters Dumbledore's Army  \n",
       "0                  NaN          NaN               NaN  \n",
       "1                  NaN          NaN               NaN  "
      ]
     },
     "execution_count": 37,
     "metadata": {},
     "output_type": "execute_result"
    }
   ],
   "source": [
    "df"
   ]
  },
  {
   "cell_type": "code",
   "execution_count": 38,
   "metadata": {},
   "outputs": [],
   "source": [
    "df['Total Characters'] = [90,49]"
   ]
  },
  {
   "cell_type": "code",
   "execution_count": 39,
   "metadata": {},
   "outputs": [],
   "source": [
    "df['Gryffindor'] = [26,12]"
   ]
  },
  {
   "cell_type": "code",
   "execution_count": 40,
   "metadata": {},
   "outputs": [],
   "source": [
    "df['Hufflepuff'] = [8,5]"
   ]
  },
  {
   "cell_type": "code",
   "execution_count": 41,
   "metadata": {},
   "outputs": [],
   "source": [
    "df['Ravenclaw'] = [9,9]"
   ]
  },
  {
   "cell_type": "code",
   "execution_count": 42,
   "metadata": {},
   "outputs": [],
   "source": [
    "df['Slytherin'] = [21,6]"
   ]
  },
  {
   "cell_type": "code",
   "execution_count": 43,
   "metadata": {},
   "outputs": [],
   "source": [
    "df['Order of the Phoenix'] = [17,12]"
   ]
  },
  {
   "cell_type": "code",
   "execution_count": 44,
   "metadata": {},
   "outputs": [],
   "source": [
    "df['Death Eaters'] = [11,3]"
   ]
  },
  {
   "cell_type": "code",
   "execution_count": 45,
   "metadata": {},
   "outputs": [],
   "source": [
    "df[\"Dumbledore's Army\"] = [18,13]"
   ]
  },
  {
   "cell_type": "code",
   "execution_count": 46,
   "metadata": {},
   "outputs": [
    {
     "data": {
      "text/html": [
       "<div>\n",
       "<style scoped>\n",
       "    .dataframe tbody tr th:only-of-type {\n",
       "        vertical-align: middle;\n",
       "    }\n",
       "\n",
       "    .dataframe tbody tr th {\n",
       "        vertical-align: top;\n",
       "    }\n",
       "\n",
       "    .dataframe thead th {\n",
       "        text-align: right;\n",
       "    }\n",
       "</style>\n",
       "<table border=\"1\" class=\"dataframe\">\n",
       "  <thead>\n",
       "    <tr style=\"text-align: right;\">\n",
       "      <th></th>\n",
       "      <th>Gender</th>\n",
       "      <th>Total Characters</th>\n",
       "      <th>Gryffindor</th>\n",
       "      <th>Hufflepuff</th>\n",
       "      <th>Ravenclaw</th>\n",
       "      <th>Slytherin</th>\n",
       "      <th>Order of the Phoenix</th>\n",
       "      <th>Death Eaters</th>\n",
       "      <th>Dumbledore's Army</th>\n",
       "    </tr>\n",
       "  </thead>\n",
       "  <tbody>\n",
       "    <tr>\n",
       "      <th>0</th>\n",
       "      <td>Male</td>\n",
       "      <td>90</td>\n",
       "      <td>26</td>\n",
       "      <td>8</td>\n",
       "      <td>9</td>\n",
       "      <td>21</td>\n",
       "      <td>17</td>\n",
       "      <td>11</td>\n",
       "      <td>18</td>\n",
       "    </tr>\n",
       "    <tr>\n",
       "      <th>1</th>\n",
       "      <td>Female</td>\n",
       "      <td>49</td>\n",
       "      <td>12</td>\n",
       "      <td>5</td>\n",
       "      <td>9</td>\n",
       "      <td>6</td>\n",
       "      <td>12</td>\n",
       "      <td>3</td>\n",
       "      <td>13</td>\n",
       "    </tr>\n",
       "  </tbody>\n",
       "</table>\n",
       "</div>"
      ],
      "text/plain": [
       "   Gender  Total Characters  Gryffindor  Hufflepuff  Ravenclaw  Slytherin  \\\n",
       "0    Male                90          26           8          9         21   \n",
       "1  Female                49          12           5          9          6   \n",
       "\n",
       "   Order of the Phoenix  Death Eaters  Dumbledore's Army  \n",
       "0                    17            11                 18  \n",
       "1                    12             3                 13  "
      ]
     },
     "execution_count": 46,
     "metadata": {},
     "output_type": "execute_result"
    }
   ],
   "source": [
    "df"
   ]
  },
  {
   "cell_type": "code",
   "execution_count": 74,
   "metadata": {},
   "outputs": [
    {
     "name": "stderr",
     "output_type": "stream",
     "text": [
      "/Users/humeralodhi/.pyenv/versions/3.7.1/lib/python3.7/site-packages/ipykernel_launcher.py:3: MatplotlibDeprecationWarning: Adding an axes using the same arguments as a previous axes currently reuses the earlier instance.  In a future version, a new instance will always be created and returned.  Meanwhile, this warning can be suppressed, and the future behavior ensured, by passing a unique label to each axes instance.\n",
      "  This is separate from the ipykernel package so we can avoid doing imports until\n"
     ]
    },
    {
     "data": {
      "image/png": "[encoded data removed]",
      "text/plain": [
       "<Figure size 720x720 with 1 Axes>"
      ]
     },
     "metadata": {
      "needs_background": "light"
     },
     "output_type": "display_data"
    }
   ],
   "source": [
    "df.plot(kind= 'barh',figsize=(10,10) )\n",
    "\n",
    "ax1 = plt.axes()\n",
    "#x_axis = ax1.axes.get_xaxis()\n",
    "ax1.tick_params(axis=u'both', which=u'both',length=0)\n",
    "x_axis.set_visible(False)\n",
    "ax1.spines['top'].set_visible(False)\n",
    "ax1.spines['right'].set_visible(False)\n",
    "ax1.spines['bottom'].set_visible(False)\n",
    "ax1.spines['left'].set_visible(False)\n",
    "plt.tight_layout()\n",
    "plt.savefig('gender.pdf')"
   ]
  },
  {
   "cell_type": "code",
   "execution_count": 109,
   "metadata": {},
   "outputs": [],
   "source": [
    "df1counts['index'] = df1counts['index'].str.upper()\n",
    "df_book_counts = df1counts.merge(df2counts,on=['index'], how = 'outer')"
   ]
  },
  {
   "cell_type": "code",
   "execution_count": 116,
   "metadata": {},
   "outputs": [],
   "source": [
    "df_book_counts= df_book_counts.merge(df3counts,on=['index'], how = 'outer')"
   ]
  },
  {
   "cell_type": "code",
   "execution_count": 122,
   "metadata": {},
   "outputs": [],
   "source": [
    "df_book_counts = df_book_counts.sort_values(by='book3', ascending = False).head(29)"
   ]
  },
  {
   "cell_type": "code",
   "execution_count": 140,
   "metadata": {},
   "outputs": [
    {
     "data": {
      "text/html": [
       "<div>\n",
       "<style scoped>\n",
       "    .dataframe tbody tr th:only-of-type {\n",
       "        vertical-align: middle;\n",
       "    }\n",
       "\n",
       "    .dataframe tbody tr th {\n",
       "        vertical-align: top;\n",
       "    }\n",
       "\n",
       "    .dataframe thead th {\n",
       "        text-align: right;\n",
       "    }\n",
       "</style>\n",
       "<table border=\"1\" class=\"dataframe\">\n",
       "  <thead>\n",
       "    <tr style=\"text-align: right;\">\n",
       "      <th></th>\n",
       "      <th>index</th>\n",
       "      <th>book1</th>\n",
       "      <th>book2</th>\n",
       "      <th>book3</th>\n",
       "    </tr>\n",
       "  </thead>\n",
       "  <tbody>\n",
       "    <tr>\n",
       "      <th>0</th>\n",
       "      <td>HARRY</td>\n",
       "      <td>330.0</td>\n",
       "      <td>390.0</td>\n",
       "      <td>308.0</td>\n",
       "    </tr>\n",
       "    <tr>\n",
       "      <th>81</th>\n",
       "      <td>LUPIN</td>\n",
       "      <td>NaN</td>\n",
       "      <td>NaN</td>\n",
       "      <td>207.0</td>\n",
       "    </tr>\n",
       "    <tr>\n",
       "      <th>3</th>\n",
       "      <td>HERMIONE</td>\n",
       "      <td>173.0</td>\n",
       "      <td>122.0</td>\n",
       "      <td>193.0</td>\n",
       "    </tr>\n",
       "    <tr>\n",
       "      <th>2</th>\n",
       "      <td>RON</td>\n",
       "      <td>210.0</td>\n",
       "      <td>175.0</td>\n",
       "      <td>151.0</td>\n",
       "    </tr>\n",
       "    <tr>\n",
       "      <th>1</th>\n",
       "      <td>HAGRID</td>\n",
       "      <td>215.0</td>\n",
       "      <td>82.0</td>\n",
       "      <td>97.0</td>\n",
       "    </tr>\n",
       "    <tr>\n",
       "      <th>4</th>\n",
       "      <td>DUMBLEDORE</td>\n",
       "      <td>75.0</td>\n",
       "      <td>88.0</td>\n",
       "      <td>76.0</td>\n",
       "    </tr>\n",
       "    <tr>\n",
       "      <th>82</th>\n",
       "      <td>SIRIUS</td>\n",
       "      <td>NaN</td>\n",
       "      <td>NaN</td>\n",
       "      <td>70.0</td>\n",
       "    </tr>\n",
       "    <tr>\n",
       "      <th>10</th>\n",
       "      <td>SNAPE</td>\n",
       "      <td>33.0</td>\n",
       "      <td>27.0</td>\n",
       "      <td>61.0</td>\n",
       "    </tr>\n",
       "    <tr>\n",
       "      <th>65</th>\n",
       "      <td>FUDGE</td>\n",
       "      <td>NaN</td>\n",
       "      <td>10.0</td>\n",
       "      <td>55.0</td>\n",
       "    </tr>\n",
       "    <tr>\n",
       "      <th>83</th>\n",
       "      <td>TRELAWNEY</td>\n",
       "      <td>NaN</td>\n",
       "      <td>NaN</td>\n",
       "      <td>39.0</td>\n",
       "    </tr>\n",
       "    <tr>\n",
       "      <th>7</th>\n",
       "      <td>MALFOY</td>\n",
       "      <td>38.0</td>\n",
       "      <td>55.0</td>\n",
       "      <td>38.0</td>\n",
       "    </tr>\n",
       "    <tr>\n",
       "      <th>84</th>\n",
       "      <td>AUNT MARGE</td>\n",
       "      <td>NaN</td>\n",
       "      <td>NaN</td>\n",
       "      <td>37.0</td>\n",
       "    </tr>\n",
       "    <tr>\n",
       "      <th>85</th>\n",
       "      <td>STAN SHUNPIKE</td>\n",
       "      <td>NaN</td>\n",
       "      <td>NaN</td>\n",
       "      <td>28.0</td>\n",
       "    </tr>\n",
       "    <tr>\n",
       "      <th>27</th>\n",
       "      <td>FRED</td>\n",
       "      <td>7.0</td>\n",
       "      <td>7.0</td>\n",
       "      <td>25.0</td>\n",
       "    </tr>\n",
       "    <tr>\n",
       "      <th>5</th>\n",
       "      <td>MCGONAGALL</td>\n",
       "      <td>64.0</td>\n",
       "      <td>66.0</td>\n",
       "      <td>22.0</td>\n",
       "    </tr>\n",
       "    <tr>\n",
       "      <th>28</th>\n",
       "      <td>GEORGE</td>\n",
       "      <td>7.0</td>\n",
       "      <td>3.0</td>\n",
       "      <td>22.0</td>\n",
       "    </tr>\n",
       "    <tr>\n",
       "      <th>8</th>\n",
       "      <td>VERNON</td>\n",
       "      <td>37.0</td>\n",
       "      <td>34.0</td>\n",
       "      <td>19.0</td>\n",
       "    </tr>\n",
       "    <tr>\n",
       "      <th>86</th>\n",
       "      <td>PETTIGREW</td>\n",
       "      <td>NaN</td>\n",
       "      <td>NaN</td>\n",
       "      <td>19.0</td>\n",
       "    </tr>\n",
       "    <tr>\n",
       "      <th>58</th>\n",
       "      <td>MR. WEASLEY</td>\n",
       "      <td>NaN</td>\n",
       "      <td>21.0</td>\n",
       "      <td>18.0</td>\n",
       "    </tr>\n",
       "    <tr>\n",
       "      <th>87</th>\n",
       "      <td>SHRUNKEN HEAD</td>\n",
       "      <td>NaN</td>\n",
       "      <td>NaN</td>\n",
       "      <td>16.0</td>\n",
       "    </tr>\n",
       "    <tr>\n",
       "      <th>24</th>\n",
       "      <td>SEAMUS</td>\n",
       "      <td>11.0</td>\n",
       "      <td>4.0</td>\n",
       "      <td>16.0</td>\n",
       "    </tr>\n",
       "    <tr>\n",
       "      <th>88</th>\n",
       "      <td>MADAM ROSMERTA</td>\n",
       "      <td>NaN</td>\n",
       "      <td>NaN</td>\n",
       "      <td>13.0</td>\n",
       "    </tr>\n",
       "    <tr>\n",
       "      <th>14</th>\n",
       "      <td>PERCY</td>\n",
       "      <td>23.0</td>\n",
       "      <td>9.0</td>\n",
       "      <td>12.0</td>\n",
       "    </tr>\n",
       "    <tr>\n",
       "      <th>18</th>\n",
       "      <td>NEVILLE</td>\n",
       "      <td>16.0</td>\n",
       "      <td>8.0</td>\n",
       "      <td>12.0</td>\n",
       "    </tr>\n",
       "    <tr>\n",
       "      <th>23</th>\n",
       "      <td>MRS. WEASLEY</td>\n",
       "      <td>11.0</td>\n",
       "      <td>54.0</td>\n",
       "      <td>10.0</td>\n",
       "    </tr>\n",
       "    <tr>\n",
       "      <th>45</th>\n",
       "      <td>FAT LADY</td>\n",
       "      <td>1.0</td>\n",
       "      <td>NaN</td>\n",
       "      <td>9.0</td>\n",
       "    </tr>\n",
       "    <tr>\n",
       "      <th>89</th>\n",
       "      <td>BEM</td>\n",
       "      <td>NaN</td>\n",
       "      <td>NaN</td>\n",
       "      <td>8.0</td>\n",
       "    </tr>\n",
       "    <tr>\n",
       "      <th>15</th>\n",
       "      <td>FILCH</td>\n",
       "      <td>22.0</td>\n",
       "      <td>21.0</td>\n",
       "      <td>7.0</td>\n",
       "    </tr>\n",
       "    <tr>\n",
       "      <th>6</th>\n",
       "      <td>PETUNIA</td>\n",
       "      <td>45.0</td>\n",
       "      <td>4.0</td>\n",
       "      <td>6.0</td>\n",
       "    </tr>\n",
       "  </tbody>\n",
       "</table>\n",
       "</div>"
      ],
      "text/plain": [
       "             index  book1  book2  book3\n",
       "0            HARRY  330.0  390.0  308.0\n",
       "81           LUPIN    NaN    NaN  207.0\n",
       "3         HERMIONE  173.0  122.0  193.0\n",
       "2              RON  210.0  175.0  151.0\n",
       "1           HAGRID  215.0   82.0   97.0\n",
       "4       DUMBLEDORE   75.0   88.0   76.0\n",
       "82          SIRIUS    NaN    NaN   70.0\n",
       "10           SNAPE   33.0   27.0   61.0\n",
       "65           FUDGE    NaN   10.0   55.0\n",
       "83       TRELAWNEY    NaN    NaN   39.0\n",
       "7           MALFOY   38.0   55.0   38.0\n",
       "84      AUNT MARGE    NaN    NaN   37.0\n",
       "85   STAN SHUNPIKE    NaN    NaN   28.0\n",
       "27            FRED    7.0    7.0   25.0\n",
       "5       MCGONAGALL   64.0   66.0   22.0\n",
       "28          GEORGE    7.0    3.0   22.0\n",
       "8           VERNON   37.0   34.0   19.0\n",
       "86       PETTIGREW    NaN    NaN   19.0\n",
       "58     MR. WEASLEY    NaN   21.0   18.0\n",
       "87   SHRUNKEN HEAD    NaN    NaN   16.0\n",
       "24          SEAMUS   11.0    4.0   16.0\n",
       "88  MADAM ROSMERTA    NaN    NaN   13.0\n",
       "14           PERCY   23.0    9.0   12.0\n",
       "18         NEVILLE   16.0    8.0   12.0\n",
       "23    MRS. WEASLEY   11.0   54.0   10.0\n",
       "45        FAT LADY    1.0    NaN    9.0\n",
       "89             BEM    NaN    NaN    8.0\n",
       "15           FILCH   22.0   21.0    7.0\n",
       "6          PETUNIA   45.0    4.0    6.0"
      ]
     },
     "execution_count": 140,
     "metadata": {},
     "output_type": "execute_result"
    }
   ],
   "source": [
    "df_book_counts"
   ]
  },
  {
   "cell_type": "code",
   "execution_count": 144,
   "metadata": {},
   "outputs": [
    {
     "data": {
      "application/vnd.plotly.v1+json": {
       "config": {
        "plotlyServerURL": "https://plot.ly"
       },
       "data": [
        {
         "marker": {
          "color": "crimson",
          "size": 12
         },
         "mode": "markers",
         "name": "Book 1",
         "type": "scatter",
         "x": [
          330,
          null,
          173,
          210,
          215,
          75,
          null,
          33,
          null,
          null,
          38,
          null,
          null,
          7,
          64,
          7,
          37,
          null,
          null,
          null,
          11,
          null,
          23,
          16,
          11,
          1,
          null,
          22,
          45
         ],
         "y": [
          "HARRY",
          "LUPIN",
          "HERMIONE",
          "RON",
          "HAGRID",
          "DUMBLEDORE",
          "SIRIUS",
          "SNAPE",
          "FUDGE",
          "TRELAWNEY",
          "MALFOY",
          "AUNT MARGE",
          "STAN SHUNPIKE",
          "FRED",
          "MCGONAGALL",
          "GEORGE",
          "VERNON",
          "PETTIGREW",
          "MR. WEASLEY",
          "SHRUNKEN HEAD",
          "SEAMUS",
          "MADAM ROSMERTA",
          "PERCY",
          "NEVILLE",
          "MRS. WEASLEY",
          "FAT LADY",
          "BEM",
          "FILCH",
          "PETUNIA"
         ]
        },
        {
         "marker": {
          "color": "gold",
          "size": 12
         },
         "mode": "markers",
         "name": "Book 2",
         "type": "scatter",
         "x": [
          390,
          null,
          122,
          175,
          82,
          88,
          null,
          27,
          10,
          null,
          55,
          null,
          null,
          7,
          66,
          3,
          34,
          null,
          21,
          null,
          4,
          null,
          9,
          8,
          54,
          null,
          null,
          21,
          4
         ],
         "y": [
          "HARRY",
          "LUPIN",
          "HERMIONE",
          "RON",
          "HAGRID",
          "DUMBLEDORE",
          "SIRIUS",
          "SNAPE",
          "FUDGE",
          "TRELAWNEY",
          "MALFOY",
          "AUNT MARGE",
          "STAN SHUNPIKE",
          "FRED",
          "MCGONAGALL",
          "GEORGE",
          "VERNON",
          "PETTIGREW",
          "MR. WEASLEY",
          "SHRUNKEN HEAD",
          "SEAMUS",
          "MADAM ROSMERTA",
          "PERCY",
          "NEVILLE",
          "MRS. WEASLEY",
          "FAT LADY",
          "BEM",
          "FILCH",
          "PETUNIA"
         ]
        },
        {
         "marker": {
          "color": "blue",
          "size": 12
         },
         "mode": "markers",
         "name": "Book 3",
         "type": "scatter",
         "x": [
          308,
          207,
          193,
          151,
          97,
          76,
          70,
          61,
          55,
          39,
          38,
          37,
          28,
          25,
          22,
          22,
          19,
          19,
          18,
          16,
          16,
          13,
          12,
          12,
          10,
          9,
          8,
          7,
          6
         ],
         "y": [
          "HARRY",
          "LUPIN",
          "HERMIONE",
          "RON",
          "HAGRID",
          "DUMBLEDORE",
          "SIRIUS",
          "SNAPE",
          "FUDGE",
          "TRELAWNEY",
          "MALFOY",
          "AUNT MARGE",
          "STAN SHUNPIKE",
          "FRED",
          "MCGONAGALL",
          "GEORGE",
          "VERNON",
          "PETTIGREW",
          "MR. WEASLEY",
          "SHRUNKEN HEAD",
          "SEAMUS",
          "MADAM ROSMERTA",
          "PERCY",
          "NEVILLE",
          "MRS. WEASLEY",
          "FAT LADY",
          "BEM",
          "FILCH",
          "PETUNIA"
         ]
        }
       ],
       "layout": {
        "height": 600,
        "hovermode": "closest",
        "legend": {
         "font": {
          "size": 10
         },
         "xanchor": "right",
         "yanchor": "middle"
        },
        "margin": {
         "b": 50,
         "l": 140,
         "r": 40,
         "t": 80
        },
        "paper_bgcolor": "white",
        "plot_bgcolor": "white",
        "template": {
         "data": {
          "bar": [
           {
            "error_x": {
             "color": "#2a3f5f"
            },
            "error_y": {
             "color": "#2a3f5f"
            },
            "marker": {
             "line": {
              "color": "#E5ECF6",
              "width": 0.5
             }
            },
            "type": "bar"
           }
          ],
          "barpolar": [
           {
            "marker": {
             "line": {
              "color": "#E5ECF6",
              "width": 0.5
             }
            },
            "type": "barpolar"
           }
          ],
          "carpet": [
           {
            "aaxis": {
             "endlinecolor": "#2a3f5f",
             "gridcolor": "white",
             "linecolor": "white",
             "minorgridcolor": "white",
             "startlinecolor": "#2a3f5f"
            },
            "baxis": {
             "endlinecolor": "#2a3f5f",
             "gridcolor": "white",
             "linecolor": "white",
             "minorgridcolor": "white",
             "startlinecolor": "#2a3f5f"
            },
            "type": "carpet"
           }
          ],
          "choropleth": [
           {
            "colorbar": {
             "outlinewidth": 0,
             "ticks": ""
            },
            "type": "choropleth"
           }
          ],
          "contour": [
           {
            "colorbar": {
             "outlinewidth": 0,
             "ticks": ""
            },
            "colorscale": [
             [
              0,
              "#0d0887"
             ],
             [
              0.1111111111111111,
              "#46039f"
             ],
             [
              0.2222222222222222,
              "#7201a8"
             ],
             [
              0.3333333333333333,
              "#9c179e"
             ],
             [
              0.4444444444444444,
              "#bd3786"
             ],
             [
              0.5555555555555556,
              "#d8576b"
             ],
             [
              0.6666666666666666,
              "#ed7953"
             ],
             [
              0.7777777777777778,
              "#fb9f3a"
             ],
             [
              0.8888888888888888,
              "#fdca26"
             ],
             [
              1,
              "#f0f921"
             ]
            ],
            "type": "contour"
           }
          ],
          "contourcarpet": [
           {
            "colorbar": {
             "outlinewidth": 0,
             "ticks": ""
            },
            "type": "contourcarpet"
           }
          ],
          "heatmap": [
           {
            "colorbar": {
             "outlinewidth": 0,
             "ticks": ""
            },
            "colorscale": [
             [
              0,
              "#0d0887"
             ],
             [
              0.1111111111111111,
              "#46039f"
             ],
             [
              0.2222222222222222,
              "#7201a8"
             ],
             [
              0.3333333333333333,
              "#9c179e"
             ],
             [
              0.4444444444444444,
              "#bd3786"
             ],
             [
              0.5555555555555556,
              "#d8576b"
             ],
             [
              0.6666666666666666,
              "#ed7953"
             ],
             [
              0.7777777777777778,
              "#fb9f3a"
             ],
             [
              0.8888888888888888,
              "#fdca26"
             ],
             [
              1,
              "#f0f921"
             ]
            ],
            "type": "heatmap"
           }
          ],
          "heatmapgl": [
           {
            "colorbar": {
             "outlinewidth": 0,
             "ticks": ""
            },
            "colorscale": [
             [
              0,
              "#0d0887"
             ],
             [
              0.1111111111111111,
              "#46039f"
             ],
             [
              0.2222222222222222,
              "#7201a8"
             ],
             [
              0.3333333333333333,
              "#9c179e"
             ],
             [
              0.4444444444444444,
              "#bd3786"
             ],
             [
              0.5555555555555556,
              "#d8576b"
             ],
             [
              0.6666666666666666,
              "#ed7953"
             ],
             [
              0.7777777777777778,
              "#fb9f3a"
             ],
             [
              0.8888888888888888,
              "#fdca26"
             ],
             [
              1,
              "#f0f921"
             ]
            ],
            "type": "heatmapgl"
           }
          ],
          "histogram": [
           {
            "marker": {
             "colorbar": {
              "outlinewidth": 0,
              "ticks": ""
             }
            },
            "type": "histogram"
           }
          ],
          "histogram2d": [
           {
            "colorbar": {
             "outlinewidth": 0,
             "ticks": ""
            },
            "colorscale": [
             [
              0,
              "#0d0887"
             ],
             [
              0.1111111111111111,
              "#46039f"
             ],
             [
              0.2222222222222222,
              "#7201a8"
             ],
             [
              0.3333333333333333,
              "#9c179e"
             ],
             [
              0.4444444444444444,
              "#bd3786"
             ],
             [
              0.5555555555555556,
              "#d8576b"
             ],
             [
              0.6666666666666666,
              "#ed7953"
             ],
             [
              0.7777777777777778,
              "#fb9f3a"
             ],
             [
              0.8888888888888888,
              "#fdca26"
             ],
             [
              1,
              "#f0f921"
             ]
            ],
            "type": "histogram2d"
           }
          ],
          "histogram2dcontour": [
           {
            "colorbar": {
             "outlinewidth": 0,
             "ticks": ""
            },
            "colorscale": [
             [
              0,
              "#0d0887"
             ],
             [
              0.1111111111111111,
              "#46039f"
             ],
             [
              0.2222222222222222,
              "#7201a8"
             ],
             [
              0.3333333333333333,
              "#9c179e"
             ],
             [
              0.4444444444444444,
              "#bd3786"
             ],
             [
              0.5555555555555556,
              "#d8576b"
             ],
             [
              0.6666666666666666,
              "#ed7953"
             ],
             [
              0.7777777777777778,
              "#fb9f3a"
             ],
             [
              0.8888888888888888,
              "#fdca26"
             ],
             [
              1,
              "#f0f921"
             ]
            ],
            "type": "histogram2dcontour"
           }
          ],
          "mesh3d": [
           {
            "colorbar": {
             "outlinewidth": 0,
             "ticks": ""
            },
            "type": "mesh3d"
           }
          ],
          "parcoords": [
           {
            "line": {
             "colorbar": {
              "outlinewidth": 0,
              "ticks": ""
             }
            },
            "type": "parcoords"
           }
          ],
          "scatter": [
           {
            "marker": {
             "colorbar": {
              "outlinewidth": 0,
              "ticks": ""
             }
            },
            "type": "scatter"
           }
          ],
          "scatter3d": [
           {
            "line": {
             "colorbar": {
              "outlinewidth": 0,
              "ticks": ""
             }
            },
            "marker": {
             "colorbar": {
              "outlinewidth": 0,
              "ticks": ""
             }
            },
            "type": "scatter3d"
           }
          ],
          "scattercarpet": [
           {
            "marker": {
             "colorbar": {
              "outlinewidth": 0,
              "ticks": ""
             }
            },
            "type": "scattercarpet"
           }
          ],
          "scattergeo": [
           {
            "marker": {
             "colorbar": {
              "outlinewidth": 0,
              "ticks": ""
             }
            },
            "type": "scattergeo"
           }
          ],
          "scattergl": [
           {
            "marker": {
             "colorbar": {
              "outlinewidth": 0,
              "ticks": ""
             }
            },
            "type": "scattergl"
           }
          ],
          "scattermapbox": [
           {
            "marker": {
             "colorbar": {
              "outlinewidth": 0,
              "ticks": ""
             }
            },
            "type": "scattermapbox"
           }
          ],
          "scatterpolar": [
           {
            "marker": {
             "colorbar": {
              "outlinewidth": 0,
              "ticks": ""
             }
            },
            "type": "scatterpolar"
           }
          ],
          "scatterpolargl": [
           {
            "marker": {
             "colorbar": {
              "outlinewidth": 0,
              "ticks": ""
             }
            },
            "type": "scatterpolargl"
           }
          ],
          "scatterternary": [
           {
            "marker": {
             "colorbar": {
              "outlinewidth": 0,
              "ticks": ""
             }
            },
            "type": "scatterternary"
           }
          ],
          "surface": [
           {
            "colorbar": {
             "outlinewidth": 0,
             "ticks": ""
            },
            "colorscale": [
             [
              0,
              "#0d0887"
             ],
             [
              0.1111111111111111,
              "#46039f"
             ],
             [
              0.2222222222222222,
              "#7201a8"
             ],
             [
              0.3333333333333333,
              "#9c179e"
             ],
             [
              0.4444444444444444,
              "#bd3786"
             ],
             [
              0.5555555555555556,
              "#d8576b"
             ],
             [
              0.6666666666666666,
              "#ed7953"
             ],
             [
              0.7777777777777778,
              "#fb9f3a"
             ],
             [
              0.8888888888888888,
              "#fdca26"
             ],
             [
              1,
              "#f0f921"
             ]
            ],
            "type": "surface"
           }
          ],
          "table": [
           {
            "cells": {
             "fill": {
              "color": "#EBF0F8"
             },
             "line": {
              "color": "white"
             }
            },
            "header": {
             "fill": {
              "color": "#C8D4E3"
             },
             "line": {
              "color": "white"
             }
            },
            "type": "table"
           }
          ]
         },
         "layout": {
          "annotationdefaults": {
           "arrowcolor": "#2a3f5f",
           "arrowhead": 0,
           "arrowwidth": 1
          },
          "colorscale": {
           "diverging": [
            [
             0,
             "#8e0152"
            ],
            [
             0.1,
             "#c51b7d"
            ],
            [
             0.2,
             "#de77ae"
            ],
            [
             0.3,
             "#f1b6da"
            ],
            [
             0.4,
             "#fde0ef"
            ],
            [
             0.5,
             "#f7f7f7"
            ],
            [
             0.6,
             "#e6f5d0"
            ],
            [
             0.7,
             "#b8e186"
            ],
            [
             0.8,
             "#7fbc41"
            ],
            [
             0.9,
             "#4d9221"
            ],
            [
             1,
             "#276419"
            ]
           ],
           "sequential": [
            [
             0,
             "#0d0887"
            ],
            [
             0.1111111111111111,
             "#46039f"
            ],
            [
             0.2222222222222222,
             "#7201a8"
            ],
            [
             0.3333333333333333,
             "#9c179e"
            ],
            [
             0.4444444444444444,
             "#bd3786"
            ],
            [
             0.5555555555555556,
             "#d8576b"
            ],
            [
             0.6666666666666666,
             "#ed7953"
            ],
            [
             0.7777777777777778,
             "#fb9f3a"
            ],
            [
             0.8888888888888888,
             "#fdca26"
            ],
            [
             1,
             "#f0f921"
            ]
           ],
           "sequentialminus": [
            [
             0,
             "#0d0887"
            ],
            [
             0.1111111111111111,
             "#46039f"
            ],
            [
             0.2222222222222222,
             "#7201a8"
            ],
            [
             0.3333333333333333,
             "#9c179e"
            ],
            [
             0.4444444444444444,
             "#bd3786"
            ],
            [
             0.5555555555555556,
             "#d8576b"
            ],
            [
             0.6666666666666666,
             "#ed7953"
            ],
            [
             0.7777777777777778,
             "#fb9f3a"
            ],
            [
             0.8888888888888888,
             "#fdca26"
            ],
            [
             1,
             "#f0f921"
            ]
           ]
          },
          "colorway": [
           "#636efa",
           "#EF553B",
           "#00cc96",
           "#ab63fa",
           "#FFA15A",
           "#19d3f3",
           "#FF6692",
           "#B6E880",
           "#FF97FF",
           "#FECB52"
          ],
          "font": {
           "color": "#2a3f5f"
          },
          "geo": {
           "bgcolor": "white",
           "lakecolor": "white",
           "landcolor": "#E5ECF6",
           "showlakes": true,
           "showland": true,
           "subunitcolor": "white"
          },
          "hoverlabel": {
           "align": "left"
          },
          "hovermode": "closest",
          "mapbox": {
           "style": "light"
          },
          "paper_bgcolor": "white",
          "plot_bgcolor": "#E5ECF6",
          "polar": {
           "angularaxis": {
            "gridcolor": "white",
            "linecolor": "white",
            "ticks": ""
           },
           "bgcolor": "#E5ECF6",
           "radialaxis": {
            "gridcolor": "white",
            "linecolor": "white",
            "ticks": ""
           }
          },
          "scene": {
           "xaxis": {
            "backgroundcolor": "#E5ECF6",
            "gridcolor": "white",
            "gridwidth": 2,
            "linecolor": "white",
            "showbackground": true,
            "ticks": "",
            "zerolinecolor": "white"
           },
           "yaxis": {
            "backgroundcolor": "#E5ECF6",
            "gridcolor": "white",
            "gridwidth": 2,
            "linecolor": "white",
            "showbackground": true,
            "ticks": "",
            "zerolinecolor": "white"
           },
           "zaxis": {
            "backgroundcolor": "#E5ECF6",
            "gridcolor": "white",
            "gridwidth": 2,
            "linecolor": "white",
            "showbackground": true,
            "ticks": "",
            "zerolinecolor": "white"
           }
          },
          "shapedefaults": {
           "line": {
            "color": "#2a3f5f"
           }
          },
          "ternary": {
           "aaxis": {
            "gridcolor": "white",
            "linecolor": "white",
            "ticks": ""
           },
           "baxis": {
            "gridcolor": "white",
            "linecolor": "white",
            "ticks": ""
           },
           "bgcolor": "#E5ECF6",
           "caxis": {
            "gridcolor": "white",
            "linecolor": "white",
            "ticks": ""
           }
          },
          "title": {
           "x": 0.05
          },
          "xaxis": {
           "automargin": true,
           "gridcolor": "white",
           "linecolor": "white",
           "ticks": "",
           "zerolinecolor": "white",
           "zerolinewidth": 2
          },
          "yaxis": {
           "automargin": true,
           "gridcolor": "white",
           "linecolor": "white",
           "ticks": "",
           "zerolinecolor": "white",
           "zerolinewidth": 2
          }
         }
        },
        "width": 800,
        "xaxis": {
         "dtick": 10,
         "linecolor": "rgb(102, 102, 102)",
         "showgrid": false,
         "showline": true,
         "showticklabels": true,
         "tickcolor": "rgb(102, 102, 102)",
         "tickfont": {
          "color": "rgb(102, 102, 102)"
         },
         "ticks": "outside"
        }
       }
      },
      "text/html": [
       "<div>\n",
       "        \n",
       "        \n",
       "            <div id=\"c378baed-a744-4cd4-a26b-56db8bd5dd2b\" class=\"plotly-graph-div\" style=\"height:600px; width:800px;\"></div>\n",
       "            <script type=\"text/javascript\">\n",
       "                require([\"plotly\"], function(Plotly) {\n",
       "                    window.PLOTLYENV=window.PLOTLYENV || {};\n",
       "                    \n",
       "                if (document.getElementById(\"c378baed-a744-4cd4-a26b-56db8bd5dd2b\")) {\n",
       "                    Plotly.newPlot(\n",
       "                        'c378baed-a744-4cd4-a26b-56db8bd5dd2b',\n",
       "                        [{\"marker\": {\"color\": \"crimson\", \"size\": 12}, \"mode\": \"markers\", \"name\": \"Book 1\", \"type\": \"scatter\", \"x\": [330.0, null, 173.0, 210.0, 215.0, 75.0, null, 33.0, null, null, 38.0, null, null, 7.0, 64.0, 7.0, 37.0, null, null, null, 11.0, null, 23.0, 16.0, 11.0, 1.0, null, 22.0, 45.0], \"y\": [\"HARRY\", \"LUPIN\", \"HERMIONE\", \"RON\", \"HAGRID\", \"DUMBLEDORE\", \"SIRIUS\", \"SNAPE\", \"FUDGE\", \"TRELAWNEY\", \"MALFOY\", \"AUNT MARGE\", \"STAN SHUNPIKE\", \"FRED\", \"MCGONAGALL\", \"GEORGE\", \"VERNON\", \"PETTIGREW\", \"MR. WEASLEY\", \"SHRUNKEN HEAD\", \"SEAMUS\", \"MADAM ROSMERTA\", \"PERCY\", \"NEVILLE\", \"MRS. WEASLEY\", \"FAT LADY\", \"BEM\", \"FILCH\", \"PETUNIA\"]}, {\"marker\": {\"color\": \"gold\", \"size\": 12}, \"mode\": \"markers\", \"name\": \"Book 2\", \"type\": \"scatter\", \"x\": [390.0, null, 122.0, 175.0, 82.0, 88.0, null, 27.0, 10.0, null, 55.0, null, null, 7.0, 66.0, 3.0, 34.0, null, 21.0, null, 4.0, null, 9.0, 8.0, 54.0, null, null, 21.0, 4.0], \"y\": [\"HARRY\", \"LUPIN\", \"HERMIONE\", \"RON\", \"HAGRID\", \"DUMBLEDORE\", \"SIRIUS\", \"SNAPE\", \"FUDGE\", \"TRELAWNEY\", \"MALFOY\", \"AUNT MARGE\", \"STAN SHUNPIKE\", \"FRED\", \"MCGONAGALL\", \"GEORGE\", \"VERNON\", \"PETTIGREW\", \"MR. WEASLEY\", \"SHRUNKEN HEAD\", \"SEAMUS\", \"MADAM ROSMERTA\", \"PERCY\", \"NEVILLE\", \"MRS. WEASLEY\", \"FAT LADY\", \"BEM\", \"FILCH\", \"PETUNIA\"]}, {\"marker\": {\"color\": \"blue\", \"size\": 12}, \"mode\": \"markers\", \"name\": \"Book 3\", \"type\": \"scatter\", \"x\": [308.0, 207.0, 193.0, 151.0, 97.0, 76.0, 70.0, 61.0, 55.0, 39.0, 38.0, 37.0, 28.0, 25.0, 22.0, 22.0, 19.0, 19.0, 18.0, 16.0, 16.0, 13.0, 12.0, 12.0, 10.0, 9.0, 8.0, 7.0, 6.0], \"y\": [\"HARRY\", \"LUPIN\", \"HERMIONE\", \"RON\", \"HAGRID\", \"DUMBLEDORE\", \"SIRIUS\", \"SNAPE\", \"FUDGE\", \"TRELAWNEY\", \"MALFOY\", \"AUNT MARGE\", \"STAN SHUNPIKE\", \"FRED\", \"MCGONAGALL\", \"GEORGE\", \"VERNON\", \"PETTIGREW\", \"MR. WEASLEY\", \"SHRUNKEN HEAD\", \"SEAMUS\", \"MADAM ROSMERTA\", \"PERCY\", \"NEVILLE\", \"MRS. WEASLEY\", \"FAT LADY\", \"BEM\", \"FILCH\", \"PETUNIA\"]}],\n",
       "                        {\"height\": 600, \"hovermode\": \"closest\", \"legend\": {\"font\": {\"size\": 10}, \"xanchor\": \"right\", \"yanchor\": \"middle\"}, \"margin\": {\"b\": 50, \"l\": 140, \"r\": 40, \"t\": 80}, \"paper_bgcolor\": \"white\", \"plot_bgcolor\": \"white\", \"template\": {\"data\": {\"bar\": [{\"error_x\": {\"color\": \"#2a3f5f\"}, \"error_y\": {\"color\": \"#2a3f5f\"}, \"marker\": {\"line\": {\"color\": \"#E5ECF6\", \"width\": 0.5}}, \"type\": \"bar\"}], \"barpolar\": [{\"marker\": {\"line\": {\"color\": \"#E5ECF6\", \"width\": 0.5}}, \"type\": \"barpolar\"}], \"carpet\": [{\"aaxis\": {\"endlinecolor\": \"#2a3f5f\", \"gridcolor\": \"white\", \"linecolor\": \"white\", \"minorgridcolor\": \"white\", \"startlinecolor\": \"#2a3f5f\"}, \"baxis\": {\"endlinecolor\": \"#2a3f5f\", \"gridcolor\": \"white\", \"linecolor\": \"white\", \"minorgridcolor\": \"white\", \"startlinecolor\": \"#2a3f5f\"}, \"type\": \"carpet\"}], \"choropleth\": [{\"colorbar\": {\"outlinewidth\": 0, \"ticks\": \"\"}, \"type\": \"choropleth\"}], \"contour\": [{\"colorbar\": {\"outlinewidth\": 0, \"ticks\": \"\"}, \"colorscale\": [[0.0, \"#0d0887\"], [0.1111111111111111, \"#46039f\"], [0.2222222222222222, \"#7201a8\"], [0.3333333333333333, \"#9c179e\"], [0.4444444444444444, \"#bd3786\"], [0.5555555555555556, \"#d8576b\"], [0.6666666666666666, \"#ed7953\"], [0.7777777777777778, \"#fb9f3a\"], [0.8888888888888888, \"#fdca26\"], [1.0, \"#f0f921\"]], \"type\": \"contour\"}], \"contourcarpet\": [{\"colorbar\": {\"outlinewidth\": 0, \"ticks\": \"\"}, \"type\": \"contourcarpet\"}], \"heatmap\": [{\"colorbar\": {\"outlinewidth\": 0, \"ticks\": \"\"}, \"colorscale\": [[0.0, \"#0d0887\"], [0.1111111111111111, \"#46039f\"], [0.2222222222222222, \"#7201a8\"], [0.3333333333333333, \"#9c179e\"], [0.4444444444444444, \"#bd3786\"], [0.5555555555555556, \"#d8576b\"], [0.6666666666666666, \"#ed7953\"], [0.7777777777777778, \"#fb9f3a\"], [0.8888888888888888, \"#fdca26\"], [1.0, \"#f0f921\"]], \"type\": \"heatmap\"}], \"heatmapgl\": [{\"colorbar\": {\"outlinewidth\": 0, \"ticks\": \"\"}, \"colorscale\": [[0.0, \"#0d0887\"], [0.1111111111111111, \"#46039f\"], [0.2222222222222222, \"#7201a8\"], [0.3333333333333333, \"#9c179e\"], [0.4444444444444444, \"#bd3786\"], [0.5555555555555556, \"#d8576b\"], [0.6666666666666666, \"#ed7953\"], [0.7777777777777778, \"#fb9f3a\"], [0.8888888888888888, \"#fdca26\"], [1.0, \"#f0f921\"]], \"type\": \"heatmapgl\"}], \"histogram\": [{\"marker\": {\"colorbar\": {\"outlinewidth\": 0, \"ticks\": \"\"}}, \"type\": \"histogram\"}], \"histogram2d\": [{\"colorbar\": {\"outlinewidth\": 0, \"ticks\": \"\"}, \"colorscale\": [[0.0, \"#0d0887\"], [0.1111111111111111, \"#46039f\"], [0.2222222222222222, \"#7201a8\"], [0.3333333333333333, \"#9c179e\"], [0.4444444444444444, \"#bd3786\"], [0.5555555555555556, \"#d8576b\"], [0.6666666666666666, \"#ed7953\"], [0.7777777777777778, \"#fb9f3a\"], [0.8888888888888888, \"#fdca26\"], [1.0, \"#f0f921\"]], \"type\": \"histogram2d\"}], \"histogram2dcontour\": [{\"colorbar\": {\"outlinewidth\": 0, \"ticks\": \"\"}, \"colorscale\": [[0.0, \"#0d0887\"], [0.1111111111111111, \"#46039f\"], [0.2222222222222222, \"#7201a8\"], [0.3333333333333333, \"#9c179e\"], [0.4444444444444444, \"#bd3786\"], [0.5555555555555556, \"#d8576b\"], [0.6666666666666666, \"#ed7953\"], [0.7777777777777778, \"#fb9f3a\"], [0.8888888888888888, \"#fdca26\"], [1.0, \"#f0f921\"]], \"type\": \"histogram2dcontour\"}], \"mesh3d\": [{\"colorbar\": {\"outlinewidth\": 0, \"ticks\": \"\"}, \"type\": \"mesh3d\"}], \"parcoords\": [{\"line\": {\"colorbar\": {\"outlinewidth\": 0, \"ticks\": \"\"}}, \"type\": \"parcoords\"}], \"scatter\": [{\"marker\": {\"colorbar\": {\"outlinewidth\": 0, \"ticks\": \"\"}}, \"type\": \"scatter\"}], \"scatter3d\": [{\"line\": {\"colorbar\": {\"outlinewidth\": 0, \"ticks\": \"\"}}, \"marker\": {\"colorbar\": {\"outlinewidth\": 0, \"ticks\": \"\"}}, \"type\": \"scatter3d\"}], \"scattercarpet\": [{\"marker\": {\"colorbar\": {\"outlinewidth\": 0, \"ticks\": \"\"}}, \"type\": \"scattercarpet\"}], \"scattergeo\": [{\"marker\": {\"colorbar\": {\"outlinewidth\": 0, \"ticks\": \"\"}}, \"type\": \"scattergeo\"}], \"scattergl\": [{\"marker\": {\"colorbar\": {\"outlinewidth\": 0, \"ticks\": \"\"}}, \"type\": \"scattergl\"}], \"scattermapbox\": [{\"marker\": {\"colorbar\": {\"outlinewidth\": 0, \"ticks\": \"\"}}, \"type\": \"scattermapbox\"}], \"scatterpolar\": [{\"marker\": {\"colorbar\": {\"outlinewidth\": 0, \"ticks\": \"\"}}, \"type\": \"scatterpolar\"}], \"scatterpolargl\": [{\"marker\": {\"colorbar\": {\"outlinewidth\": 0, \"ticks\": \"\"}}, \"type\": \"scatterpolargl\"}], \"scatterternary\": [{\"marker\": {\"colorbar\": {\"outlinewidth\": 0, \"ticks\": \"\"}}, \"type\": \"scatterternary\"}], \"surface\": [{\"colorbar\": {\"outlinewidth\": 0, \"ticks\": \"\"}, \"colorscale\": [[0.0, \"#0d0887\"], [0.1111111111111111, \"#46039f\"], [0.2222222222222222, \"#7201a8\"], [0.3333333333333333, \"#9c179e\"], [0.4444444444444444, \"#bd3786\"], [0.5555555555555556, \"#d8576b\"], [0.6666666666666666, \"#ed7953\"], [0.7777777777777778, \"#fb9f3a\"], [0.8888888888888888, \"#fdca26\"], [1.0, \"#f0f921\"]], \"type\": \"surface\"}], \"table\": [{\"cells\": {\"fill\": {\"color\": \"#EBF0F8\"}, \"line\": {\"color\": \"white\"}}, \"header\": {\"fill\": {\"color\": \"#C8D4E3\"}, \"line\": {\"color\": \"white\"}}, \"type\": \"table\"}]}, \"layout\": {\"annotationdefaults\": {\"arrowcolor\": \"#2a3f5f\", \"arrowhead\": 0, \"arrowwidth\": 1}, \"colorscale\": {\"diverging\": [[0, \"#8e0152\"], [0.1, \"#c51b7d\"], [0.2, \"#de77ae\"], [0.3, \"#f1b6da\"], [0.4, \"#fde0ef\"], [0.5, \"#f7f7f7\"], [0.6, \"#e6f5d0\"], [0.7, \"#b8e186\"], [0.8, \"#7fbc41\"], [0.9, \"#4d9221\"], [1, \"#276419\"]], \"sequential\": [[0.0, \"#0d0887\"], [0.1111111111111111, \"#46039f\"], [0.2222222222222222, \"#7201a8\"], [0.3333333333333333, \"#9c179e\"], [0.4444444444444444, \"#bd3786\"], [0.5555555555555556, \"#d8576b\"], [0.6666666666666666, \"#ed7953\"], [0.7777777777777778, \"#fb9f3a\"], [0.8888888888888888, \"#fdca26\"], [1.0, \"#f0f921\"]], \"sequentialminus\": [[0.0, \"#0d0887\"], [0.1111111111111111, \"#46039f\"], [0.2222222222222222, \"#7201a8\"], [0.3333333333333333, \"#9c179e\"], [0.4444444444444444, \"#bd3786\"], [0.5555555555555556, \"#d8576b\"], [0.6666666666666666, \"#ed7953\"], [0.7777777777777778, \"#fb9f3a\"], [0.8888888888888888, \"#fdca26\"], [1.0, \"#f0f921\"]]}, \"colorway\": [\"#636efa\", \"#EF553B\", \"#00cc96\", \"#ab63fa\", \"#FFA15A\", \"#19d3f3\", \"#FF6692\", \"#B6E880\", \"#FF97FF\", \"#FECB52\"], \"font\": {\"color\": \"#2a3f5f\"}, \"geo\": {\"bgcolor\": \"white\", \"lakecolor\": \"white\", \"landcolor\": \"#E5ECF6\", \"showlakes\": true, \"showland\": true, \"subunitcolor\": \"white\"}, \"hoverlabel\": {\"align\": \"left\"}, \"hovermode\": \"closest\", \"mapbox\": {\"style\": \"light\"}, \"paper_bgcolor\": \"white\", \"plot_bgcolor\": \"#E5ECF6\", \"polar\": {\"angularaxis\": {\"gridcolor\": \"white\", \"linecolor\": \"white\", \"ticks\": \"\"}, \"bgcolor\": \"#E5ECF6\", \"radialaxis\": {\"gridcolor\": \"white\", \"linecolor\": \"white\", \"ticks\": \"\"}}, \"scene\": {\"xaxis\": {\"backgroundcolor\": \"#E5ECF6\", \"gridcolor\": \"white\", \"gridwidth\": 2, \"linecolor\": \"white\", \"showbackground\": true, \"ticks\": \"\", \"zerolinecolor\": \"white\"}, \"yaxis\": {\"backgroundcolor\": \"#E5ECF6\", \"gridcolor\": \"white\", \"gridwidth\": 2, \"linecolor\": \"white\", \"showbackground\": true, \"ticks\": \"\", \"zerolinecolor\": \"white\"}, \"zaxis\": {\"backgroundcolor\": \"#E5ECF6\", \"gridcolor\": \"white\", \"gridwidth\": 2, \"linecolor\": \"white\", \"showbackground\": true, \"ticks\": \"\", \"zerolinecolor\": \"white\"}}, \"shapedefaults\": {\"line\": {\"color\": \"#2a3f5f\"}}, \"ternary\": {\"aaxis\": {\"gridcolor\": \"white\", \"linecolor\": \"white\", \"ticks\": \"\"}, \"baxis\": {\"gridcolor\": \"white\", \"linecolor\": \"white\", \"ticks\": \"\"}, \"bgcolor\": \"#E5ECF6\", \"caxis\": {\"gridcolor\": \"white\", \"linecolor\": \"white\", \"ticks\": \"\"}}, \"title\": {\"x\": 0.05}, \"xaxis\": {\"automargin\": true, \"gridcolor\": \"white\", \"linecolor\": \"white\", \"ticks\": \"\", \"zerolinecolor\": \"white\", \"zerolinewidth\": 2}, \"yaxis\": {\"automargin\": true, \"gridcolor\": \"white\", \"linecolor\": \"white\", \"ticks\": \"\", \"zerolinecolor\": \"white\", \"zerolinewidth\": 2}}}, \"width\": 800, \"xaxis\": {\"dtick\": 10, \"linecolor\": \"rgb(102, 102, 102)\", \"showgrid\": false, \"showline\": true, \"showticklabels\": true, \"tickcolor\": \"rgb(102, 102, 102)\", \"tickfont\": {\"color\": \"rgb(102, 102, 102)\"}, \"ticks\": \"outside\"}},\n",
       "                        {\"responsive\": true}\n",
       "                    ).then(function(){\n",
       "                            \n",
       "var gd = document.getElementById('c378baed-a744-4cd4-a26b-56db8bd5dd2b');\n",
       "var x = new MutationObserver(function (mutations, observer) {{\n",
       "        var display = window.getComputedStyle(gd).display;\n",
       "        if (!display || display === 'none') {{\n",
       "            console.log([gd, 'removed!']);\n",
       "            Plotly.purge(gd);\n",
       "            observer.disconnect();\n",
       "        }}\n",
       "}});\n",
       "\n",
       "// Listen for the removal of the full notebook cells\n",
       "var notebookContainer = gd.closest('#notebook-container');\n",
       "if (notebookContainer) {{\n",
       "    x.observe(notebookContainer, {childList: true});\n",
       "}}\n",
       "\n",
       "// Listen for the clearing of the current output cell\n",
       "var outputEl = gd.closest('.output');\n",
       "if (outputEl) {{\n",
       "    x.observe(outputEl, {childList: true});\n",
       "}}\n",
       "\n",
       "                        })\n",
       "                };\n",
       "                });\n",
       "            </script>\n",
       "        </div>"
      ]
     },
     "metadata": {},
     "output_type": "display_data"
    },
    {
     "data": {
      "application/vnd.plotly.v1+json": {
       "config": {
        "plotlyServerURL": "https://plot.ly"
       },
       "data": [
        {
         "marker": {
          "color": "crimson",
          "size": 12
         },
         "mode": "markers",
         "name": "Book 1",
         "type": "scatter",
         "x": [
          330,
          null,
          173,
          210,
          215,
          75,
          null,
          33,
          null,
          null,
          38,
          null,
          null,
          7,
          64,
          7,
          37,
          null,
          null,
          null,
          11,
          null,
          23,
          16,
          11,
          1,
          null,
          22,
          45
         ],
         "y": [
          "HARRY",
          "LUPIN",
          "HERMIONE",
          "RON",
          "HAGRID",
          "DUMBLEDORE",
          "SIRIUS",
          "SNAPE",
          "FUDGE",
          "TRELAWNEY",
          "MALFOY",
          "AUNT MARGE",
          "STAN SHUNPIKE",
          "FRED",
          "MCGONAGALL",
          "GEORGE",
          "VERNON",
          "PETTIGREW",
          "MR. WEASLEY",
          "SHRUNKEN HEAD",
          "SEAMUS",
          "MADAM ROSMERTA",
          "PERCY",
          "NEVILLE",
          "MRS. WEASLEY",
          "FAT LADY",
          "BEM",
          "FILCH",
          "PETUNIA"
         ]
        },
        {
         "marker": {
          "color": "gold",
          "size": 12
         },
         "mode": "markers",
         "name": "Book 2",
         "type": "scatter",
         "x": [
          390,
          null,
          122,
          175,
          82,
          88,
          null,
          27,
          10,
          null,
          55,
          null,
          null,
          7,
          66,
          3,
          34,
          null,
          21,
          null,
          4,
          null,
          9,
          8,
          54,
          null,
          null,
          21,
          4
         ],
         "y": [
          "HARRY",
          "LUPIN",
          "HERMIONE",
          "RON",
          "HAGRID",
          "DUMBLEDORE",
          "SIRIUS",
          "SNAPE",
          "FUDGE",
          "TRELAWNEY",
          "MALFOY",
          "AUNT MARGE",
          "STAN SHUNPIKE",
          "FRED",
          "MCGONAGALL",
          "GEORGE",
          "VERNON",
          "PETTIGREW",
          "MR. WEASLEY",
          "SHRUNKEN HEAD",
          "SEAMUS",
          "MADAM ROSMERTA",
          "PERCY",
          "NEVILLE",
          "MRS. WEASLEY",
          "FAT LADY",
          "BEM",
          "FILCH",
          "PETUNIA"
         ]
        },
        {
         "marker": {
          "color": "blue",
          "size": 12
         },
         "mode": "markers",
         "name": "Book 3",
         "type": "scatter",
         "x": [
          308,
          207,
          193,
          151,
          97,
          76,
          70,
          61,
          55,
          39,
          38,
          37,
          28,
          25,
          22,
          22,
          19,
          19,
          18,
          16,
          16,
          13,
          12,
          12,
          10,
          9,
          8,
          7,
          6
         ],
         "y": [
          "HARRY",
          "LUPIN",
          "HERMIONE",
          "RON",
          "HAGRID",
          "DUMBLEDORE",
          "SIRIUS",
          "SNAPE",
          "FUDGE",
          "TRELAWNEY",
          "MALFOY",
          "AUNT MARGE",
          "STAN SHUNPIKE",
          "FRED",
          "MCGONAGALL",
          "GEORGE",
          "VERNON",
          "PETTIGREW",
          "MR. WEASLEY",
          "SHRUNKEN HEAD",
          "SEAMUS",
          "MADAM ROSMERTA",
          "PERCY",
          "NEVILLE",
          "MRS. WEASLEY",
          "FAT LADY",
          "BEM",
          "FILCH",
          "PETUNIA"
         ]
        }
       ],
       "layout": {
        "height": 600,
        "hovermode": "closest",
        "legend": {
         "font": {
          "size": 10
         },
         "xanchor": "right",
         "yanchor": "middle"
        },
        "margin": {
         "b": 50,
         "l": 140,
         "r": 40,
         "t": 80
        },
        "paper_bgcolor": "white",
        "plot_bgcolor": "white",
        "template": {
         "data": {
          "bar": [
           {
            "error_x": {
             "color": "#2a3f5f"
            },
            "error_y": {
             "color": "#2a3f5f"
            },
            "marker": {
             "line": {
              "color": "#E5ECF6",
              "width": 0.5
             }
            },
            "type": "bar"
           }
          ],
          "barpolar": [
           {
            "marker": {
             "line": {
              "color": "#E5ECF6",
              "width": 0.5
             }
            },
            "type": "barpolar"
           }
          ],
          "carpet": [
           {
            "aaxis": {
             "endlinecolor": "#2a3f5f",
             "gridcolor": "white",
             "linecolor": "white",
             "minorgridcolor": "white",
             "startlinecolor": "#2a3f5f"
            },
            "baxis": {
             "endlinecolor": "#2a3f5f",
             "gridcolor": "white",
             "linecolor": "white",
             "minorgridcolor": "white",
             "startlinecolor": "#2a3f5f"
            },
            "type": "carpet"
           }
          ],
          "choropleth": [
           {
            "colorbar": {
             "outlinewidth": 0,
             "ticks": ""
            },
            "type": "choropleth"
           }
          ],
          "contour": [
           {
            "colorbar": {
             "outlinewidth": 0,
             "ticks": ""
            },
            "colorscale": [
             [
              0,
              "#0d0887"
             ],
             [
              0.1111111111111111,
              "#46039f"
             ],
             [
              0.2222222222222222,
              "#7201a8"
             ],
             [
              0.3333333333333333,
              "#9c179e"
             ],
             [
              0.4444444444444444,
              "#bd3786"
             ],
             [
              0.5555555555555556,
              "#d8576b"
             ],
             [
              0.6666666666666666,
              "#ed7953"
             ],
             [
              0.7777777777777778,
              "#fb9f3a"
             ],
             [
              0.8888888888888888,
              "#fdca26"
             ],
             [
              1,
              "#f0f921"
             ]
            ],
            "type": "contour"
           }
          ],
          "contourcarpet": [
           {
            "colorbar": {
             "outlinewidth": 0,
             "ticks": ""
            },
            "type": "contourcarpet"
           }
          ],
          "heatmap": [
           {
            "colorbar": {
             "outlinewidth": 0,
             "ticks": ""
            },
            "colorscale": [
             [
              0,
              "#0d0887"
             ],
             [
              0.1111111111111111,
              "#46039f"
             ],
             [
              0.2222222222222222,
              "#7201a8"
             ],
             [
              0.3333333333333333,
              "#9c179e"
             ],
             [
              0.4444444444444444,
              "#bd3786"
             ],
             [
              0.5555555555555556,
              "#d8576b"
             ],
             [
              0.6666666666666666,
              "#ed7953"
             ],
             [
              0.7777777777777778,
              "#fb9f3a"
             ],
             [
              0.8888888888888888,
              "#fdca26"
             ],
             [
              1,
              "#f0f921"
             ]
            ],
            "type": "heatmap"
           }
          ],
          "heatmapgl": [
           {
            "colorbar": {
             "outlinewidth": 0,
             "ticks": ""
            },
            "colorscale": [
             [
              0,
              "#0d0887"
             ],
             [
              0.1111111111111111,
              "#46039f"
             ],
             [
              0.2222222222222222,
              "#7201a8"
             ],
             [
              0.3333333333333333,
              "#9c179e"
             ],
             [
              0.4444444444444444,
              "#bd3786"
             ],
             [
              0.5555555555555556,
              "#d8576b"
             ],
             [
              0.6666666666666666,
              "#ed7953"
             ],
             [
              0.7777777777777778,
              "#fb9f3a"
             ],
             [
              0.8888888888888888,
              "#fdca26"
             ],
             [
              1,
              "#f0f921"
             ]
            ],
            "type": "heatmapgl"
           }
          ],
          "histogram": [
           {
            "marker": {
             "colorbar": {
              "outlinewidth": 0,
              "ticks": ""
             }
            },
            "type": "histogram"
           }
          ],
          "histogram2d": [
           {
            "colorbar": {
             "outlinewidth": 0,
             "ticks": ""
            },
            "colorscale": [
             [
              0,
              "#0d0887"
             ],
             [
              0.1111111111111111,
              "#46039f"
             ],
             [
              0.2222222222222222,
              "#7201a8"
             ],
             [
              0.3333333333333333,
              "#9c179e"
             ],
             [
              0.4444444444444444,
              "#bd3786"
             ],
             [
              0.5555555555555556,
              "#d8576b"
             ],
             [
              0.6666666666666666,
              "#ed7953"
             ],
             [
              0.7777777777777778,
              "#fb9f3a"
             ],
             [
              0.8888888888888888,
              "#fdca26"
             ],
             [
              1,
              "#f0f921"
             ]
            ],
            "type": "histogram2d"
           }
          ],
          "histogram2dcontour": [
           {
            "colorbar": {
             "outlinewidth": 0,
             "ticks": ""
            },
            "colorscale": [
             [
              0,
              "#0d0887"
             ],
             [
              0.1111111111111111,
              "#46039f"
             ],
             [
              0.2222222222222222,
              "#7201a8"
             ],
             [
              0.3333333333333333,
              "#9c179e"
             ],
             [
              0.4444444444444444,
              "#bd3786"
             ],
             [
              0.5555555555555556,
              "#d8576b"
             ],
             [
              0.6666666666666666,
              "#ed7953"
             ],
             [
              0.7777777777777778,
              "#fb9f3a"
             ],
             [
              0.8888888888888888,
              "#fdca26"
             ],
             [
              1,
              "#f0f921"
             ]
            ],
            "type": "histogram2dcontour"
           }
          ],
          "mesh3d": [
           {
            "colorbar": {
             "outlinewidth": 0,
             "ticks": ""
            },
            "type": "mesh3d"
           }
          ],
          "parcoords": [
           {
            "line": {
             "colorbar": {
              "outlinewidth": 0,
              "ticks": ""
             }
            },
            "type": "parcoords"
           }
          ],
          "scatter": [
           {
            "marker": {
             "colorbar": {
              "outlinewidth": 0,
              "ticks": ""
             }
            },
            "type": "scatter"
           }
          ],
          "scatter3d": [
           {
            "line": {
             "colorbar": {
              "outlinewidth": 0,
              "ticks": ""
             }
            },
            "marker": {
             "colorbar": {
              "outlinewidth": 0,
              "ticks": ""
             }
            },
            "type": "scatter3d"
           }
          ],
          "scattercarpet": [
           {
            "marker": {
             "colorbar": {
              "outlinewidth": 0,
              "ticks": ""
             }
            },
            "type": "scattercarpet"
           }
          ],
          "scattergeo": [
           {
            "marker": {
             "colorbar": {
              "outlinewidth": 0,
              "ticks": ""
             }
            },
            "type": "scattergeo"
           }
          ],
          "scattergl": [
           {
            "marker": {
             "colorbar": {
              "outlinewidth": 0,
              "ticks": ""
             }
            },
            "type": "scattergl"
           }
          ],
          "scattermapbox": [
           {
            "marker": {
             "colorbar": {
              "outlinewidth": 0,
              "ticks": ""
             }
            },
            "type": "scattermapbox"
           }
          ],
          "scatterpolar": [
           {
            "marker": {
             "colorbar": {
              "outlinewidth": 0,
              "ticks": ""
             }
            },
            "type": "scatterpolar"
           }
          ],
          "scatterpolargl": [
           {
            "marker": {
             "colorbar": {
              "outlinewidth": 0,
              "ticks": ""
             }
            },
            "type": "scatterpolargl"
           }
          ],
          "scatterternary": [
           {
            "marker": {
             "colorbar": {
              "outlinewidth": 0,
              "ticks": ""
             }
            },
            "type": "scatterternary"
           }
          ],
          "surface": [
           {
            "colorbar": {
             "outlinewidth": 0,
             "ticks": ""
            },
            "colorscale": [
             [
              0,
              "#0d0887"
             ],
             [
              0.1111111111111111,
              "#46039f"
             ],
             [
              0.2222222222222222,
              "#7201a8"
             ],
             [
              0.3333333333333333,
              "#9c179e"
             ],
             [
              0.4444444444444444,
              "#bd3786"
             ],
             [
              0.5555555555555556,
              "#d8576b"
             ],
             [
              0.6666666666666666,
              "#ed7953"
             ],
             [
              0.7777777777777778,
              "#fb9f3a"
             ],
             [
              0.8888888888888888,
              "#fdca26"
             ],
             [
              1,
              "#f0f921"
             ]
            ],
            "type": "surface"
           }
          ],
          "table": [
           {
            "cells": {
             "fill": {
              "color": "#EBF0F8"
             },
             "line": {
              "color": "white"
             }
            },
            "header": {
             "fill": {
              "color": "#C8D4E3"
             },
             "line": {
              "color": "white"
             }
            },
            "type": "table"
           }
          ]
         },
         "layout": {
          "annotationdefaults": {
           "arrowcolor": "#2a3f5f",
           "arrowhead": 0,
           "arrowwidth": 1
          },
          "colorscale": {
           "diverging": [
            [
             0,
             "#8e0152"
            ],
            [
             0.1,
             "#c51b7d"
            ],
            [
             0.2,
             "#de77ae"
            ],
            [
             0.3,
             "#f1b6da"
            ],
            [
             0.4,
             "#fde0ef"
            ],
            [
             0.5,
             "#f7f7f7"
            ],
            [
             0.6,
             "#e6f5d0"
            ],
            [
             0.7,
             "#b8e186"
            ],
            [
             0.8,
             "#7fbc41"
            ],
            [
             0.9,
             "#4d9221"
            ],
            [
             1,
             "#276419"
            ]
           ],
           "sequential": [
            [
             0,
             "#0d0887"
            ],
            [
             0.1111111111111111,
             "#46039f"
            ],
            [
             0.2222222222222222,
             "#7201a8"
            ],
            [
             0.3333333333333333,
             "#9c179e"
            ],
            [
             0.4444444444444444,
             "#bd3786"
            ],
            [
             0.5555555555555556,
             "#d8576b"
            ],
            [
             0.6666666666666666,
             "#ed7953"
            ],
            [
             0.7777777777777778,
             "#fb9f3a"
            ],
            [
             0.8888888888888888,
             "#fdca26"
            ],
            [
             1,
             "#f0f921"
            ]
           ],
           "sequentialminus": [
            [
             0,
             "#0d0887"
            ],
            [
             0.1111111111111111,
             "#46039f"
            ],
            [
             0.2222222222222222,
             "#7201a8"
            ],
            [
             0.3333333333333333,
             "#9c179e"
            ],
            [
             0.4444444444444444,
             "#bd3786"
            ],
            [
             0.5555555555555556,
             "#d8576b"
            ],
            [
             0.6666666666666666,
             "#ed7953"
            ],
            [
             0.7777777777777778,
             "#fb9f3a"
            ],
            [
             0.8888888888888888,
             "#fdca26"
            ],
            [
             1,
             "#f0f921"
            ]
           ]
          },
          "colorway": [
           "#636efa",
           "#EF553B",
           "#00cc96",
           "#ab63fa",
           "#FFA15A",
           "#19d3f3",
           "#FF6692",
           "#B6E880",
           "#FF97FF",
           "#FECB52"
          ],
          "font": {
           "color": "#2a3f5f"
          },
          "geo": {
           "bgcolor": "white",
           "lakecolor": "white",
           "landcolor": "#E5ECF6",
           "showlakes": true,
           "showland": true,
           "subunitcolor": "white"
          },
          "hoverlabel": {
           "align": "left"
          },
          "hovermode": "closest",
          "mapbox": {
           "style": "light"
          },
          "paper_bgcolor": "white",
          "plot_bgcolor": "#E5ECF6",
          "polar": {
           "angularaxis": {
            "gridcolor": "white",
            "linecolor": "white",
            "ticks": ""
           },
           "bgcolor": "#E5ECF6",
           "radialaxis": {
            "gridcolor": "white",
            "linecolor": "white",
            "ticks": ""
           }
          },
          "scene": {
           "xaxis": {
            "backgroundcolor": "#E5ECF6",
            "gridcolor": "white",
            "gridwidth": 2,
            "linecolor": "white",
            "showbackground": true,
            "ticks": "",
            "zerolinecolor": "white"
           },
           "yaxis": {
            "backgroundcolor": "#E5ECF6",
            "gridcolor": "white",
            "gridwidth": 2,
            "linecolor": "white",
            "showbackground": true,
            "ticks": "",
            "zerolinecolor": "white"
           },
           "zaxis": {
            "backgroundcolor": "#E5ECF6",
            "gridcolor": "white",
            "gridwidth": 2,
            "linecolor": "white",
            "showbackground": true,
            "ticks": "",
            "zerolinecolor": "white"
           }
          },
          "shapedefaults": {
           "line": {
            "color": "#2a3f5f"
           }
          },
          "ternary": {
           "aaxis": {
            "gridcolor": "white",
            "linecolor": "white",
            "ticks": ""
           },
           "baxis": {
            "gridcolor": "white",
            "linecolor": "white",
            "ticks": ""
           },
           "bgcolor": "#E5ECF6",
           "caxis": {
            "gridcolor": "white",
            "linecolor": "white",
            "ticks": ""
           }
          },
          "title": {
           "x": 0.05
          },
          "xaxis": {
           "automargin": true,
           "gridcolor": "white",
           "linecolor": "white",
           "ticks": "",
           "zerolinecolor": "white",
           "zerolinewidth": 2
          },
          "yaxis": {
           "automargin": true,
           "gridcolor": "white",
           "linecolor": "white",
           "ticks": "",
           "zerolinecolor": "white",
           "zerolinewidth": 2
          }
         }
        },
        "width": 800,
        "xaxis": {
         "dtick": 10,
         "linecolor": "rgb(102, 102, 102)",
         "showgrid": false,
         "showline": true,
         "showticklabels": true,
         "tickcolor": "rgb(102, 102, 102)",
         "tickfont": {
          "color": "rgb(102, 102, 102)"
         },
         "ticks": "outside"
        }
       }
      },
      "text/html": [
       "<div>\n",
       "        \n",
       "        \n",
       "            <div id=\"375048f5-fef3-4edb-a591-3cf6c969fc38\" class=\"plotly-graph-div\" style=\"height:600px; width:800px;\"></div>\n",
       "            <script type=\"text/javascript\">\n",
       "                require([\"plotly\"], function(Plotly) {\n",
       "                    window.PLOTLYENV=window.PLOTLYENV || {};\n",
       "                    \n",
       "                if (document.getElementById(\"375048f5-fef3-4edb-a591-3cf6c969fc38\")) {\n",
       "                    Plotly.newPlot(\n",
       "                        '375048f5-fef3-4edb-a591-3cf6c969fc38',\n",
       "                        [{\"marker\": {\"color\": \"crimson\", \"size\": 12}, \"mode\": \"markers\", \"name\": \"Book 1\", \"type\": \"scatter\", \"x\": [330.0, null, 173.0, 210.0, 215.0, 75.0, null, 33.0, null, null, 38.0, null, null, 7.0, 64.0, 7.0, 37.0, null, null, null, 11.0, null, 23.0, 16.0, 11.0, 1.0, null, 22.0, 45.0], \"y\": [\"HARRY\", \"LUPIN\", \"HERMIONE\", \"RON\", \"HAGRID\", \"DUMBLEDORE\", \"SIRIUS\", \"SNAPE\", \"FUDGE\", \"TRELAWNEY\", \"MALFOY\", \"AUNT MARGE\", \"STAN SHUNPIKE\", \"FRED\", \"MCGONAGALL\", \"GEORGE\", \"VERNON\", \"PETTIGREW\", \"MR. WEASLEY\", \"SHRUNKEN HEAD\", \"SEAMUS\", \"MADAM ROSMERTA\", \"PERCY\", \"NEVILLE\", \"MRS. WEASLEY\", \"FAT LADY\", \"BEM\", \"FILCH\", \"PETUNIA\"]}, {\"marker\": {\"color\": \"gold\", \"size\": 12}, \"mode\": \"markers\", \"name\": \"Book 2\", \"type\": \"scatter\", \"x\": [390.0, null, 122.0, 175.0, 82.0, 88.0, null, 27.0, 10.0, null, 55.0, null, null, 7.0, 66.0, 3.0, 34.0, null, 21.0, null, 4.0, null, 9.0, 8.0, 54.0, null, null, 21.0, 4.0], \"y\": [\"HARRY\", \"LUPIN\", \"HERMIONE\", \"RON\", \"HAGRID\", \"DUMBLEDORE\", \"SIRIUS\", \"SNAPE\", \"FUDGE\", \"TRELAWNEY\", \"MALFOY\", \"AUNT MARGE\", \"STAN SHUNPIKE\", \"FRED\", \"MCGONAGALL\", \"GEORGE\", \"VERNON\", \"PETTIGREW\", \"MR. WEASLEY\", \"SHRUNKEN HEAD\", \"SEAMUS\", \"MADAM ROSMERTA\", \"PERCY\", \"NEVILLE\", \"MRS. WEASLEY\", \"FAT LADY\", \"BEM\", \"FILCH\", \"PETUNIA\"]}, {\"marker\": {\"color\": \"blue\", \"size\": 12}, \"mode\": \"markers\", \"name\": \"Book 3\", \"type\": \"scatter\", \"x\": [308.0, 207.0, 193.0, 151.0, 97.0, 76.0, 70.0, 61.0, 55.0, 39.0, 38.0, 37.0, 28.0, 25.0, 22.0, 22.0, 19.0, 19.0, 18.0, 16.0, 16.0, 13.0, 12.0, 12.0, 10.0, 9.0, 8.0, 7.0, 6.0], \"y\": [\"HARRY\", \"LUPIN\", \"HERMIONE\", \"RON\", \"HAGRID\", \"DUMBLEDORE\", \"SIRIUS\", \"SNAPE\", \"FUDGE\", \"TRELAWNEY\", \"MALFOY\", \"AUNT MARGE\", \"STAN SHUNPIKE\", \"FRED\", \"MCGONAGALL\", \"GEORGE\", \"VERNON\", \"PETTIGREW\", \"MR. WEASLEY\", \"SHRUNKEN HEAD\", \"SEAMUS\", \"MADAM ROSMERTA\", \"PERCY\", \"NEVILLE\", \"MRS. WEASLEY\", \"FAT LADY\", \"BEM\", \"FILCH\", \"PETUNIA\"]}],\n",
       "                        {\"height\": 600, \"hovermode\": \"closest\", \"legend\": {\"font\": {\"size\": 10}, \"xanchor\": \"right\", \"yanchor\": \"middle\"}, \"margin\": {\"b\": 50, \"l\": 140, \"r\": 40, \"t\": 80}, \"paper_bgcolor\": \"white\", \"plot_bgcolor\": \"white\", \"template\": {\"data\": {\"bar\": [{\"error_x\": {\"color\": \"#2a3f5f\"}, \"error_y\": {\"color\": \"#2a3f5f\"}, \"marker\": {\"line\": {\"color\": \"#E5ECF6\", \"width\": 0.5}}, \"type\": \"bar\"}], \"barpolar\": [{\"marker\": {\"line\": {\"color\": \"#E5ECF6\", \"width\": 0.5}}, \"type\": \"barpolar\"}], \"carpet\": [{\"aaxis\": {\"endlinecolor\": \"#2a3f5f\", \"gridcolor\": \"white\", \"linecolor\": \"white\", \"minorgridcolor\": \"white\", \"startlinecolor\": \"#2a3f5f\"}, \"baxis\": {\"endlinecolor\": \"#2a3f5f\", \"gridcolor\": \"white\", \"linecolor\": \"white\", \"minorgridcolor\": \"white\", \"startlinecolor\": \"#2a3f5f\"}, \"type\": \"carpet\"}], \"choropleth\": [{\"colorbar\": {\"outlinewidth\": 0, \"ticks\": \"\"}, \"type\": \"choropleth\"}], \"contour\": [{\"colorbar\": {\"outlinewidth\": 0, \"ticks\": \"\"}, \"colorscale\": [[0.0, \"#0d0887\"], [0.1111111111111111, \"#46039f\"], [0.2222222222222222, \"#7201a8\"], [0.3333333333333333, \"#9c179e\"], [0.4444444444444444, \"#bd3786\"], [0.5555555555555556, \"#d8576b\"], [0.6666666666666666, \"#ed7953\"], [0.7777777777777778, \"#fb9f3a\"], [0.8888888888888888, \"#fdca26\"], [1.0, \"#f0f921\"]], \"type\": \"contour\"}], \"contourcarpet\": [{\"colorbar\": {\"outlinewidth\": 0, \"ticks\": \"\"}, \"type\": \"contourcarpet\"}], \"heatmap\": [{\"colorbar\": {\"outlinewidth\": 0, \"ticks\": \"\"}, \"colorscale\": [[0.0, \"#0d0887\"], [0.1111111111111111, \"#46039f\"], [0.2222222222222222, \"#7201a8\"], [0.3333333333333333, \"#9c179e\"], [0.4444444444444444, \"#bd3786\"], [0.5555555555555556, \"#d8576b\"], [0.6666666666666666, \"#ed7953\"], [0.7777777777777778, \"#fb9f3a\"], [0.8888888888888888, \"#fdca26\"], [1.0, \"#f0f921\"]], \"type\": \"heatmap\"}], \"heatmapgl\": [{\"colorbar\": {\"outlinewidth\": 0, \"ticks\": \"\"}, \"colorscale\": [[0.0, \"#0d0887\"], [0.1111111111111111, \"#46039f\"], [0.2222222222222222, \"#7201a8\"], [0.3333333333333333, \"#9c179e\"], [0.4444444444444444, \"#bd3786\"], [0.5555555555555556, \"#d8576b\"], [0.6666666666666666, \"#ed7953\"], [0.7777777777777778, \"#fb9f3a\"], [0.8888888888888888, \"#fdca26\"], [1.0, \"#f0f921\"]], \"type\": \"heatmapgl\"}], \"histogram\": [{\"marker\": {\"colorbar\": {\"outlinewidth\": 0, \"ticks\": \"\"}}, \"type\": \"histogram\"}], \"histogram2d\": [{\"colorbar\": {\"outlinewidth\": 0, \"ticks\": \"\"}, \"colorscale\": [[0.0, \"#0d0887\"], [0.1111111111111111, \"#46039f\"], [0.2222222222222222, \"#7201a8\"], [0.3333333333333333, \"#9c179e\"], [0.4444444444444444, \"#bd3786\"], [0.5555555555555556, \"#d8576b\"], [0.6666666666666666, \"#ed7953\"], [0.7777777777777778, \"#fb9f3a\"], [0.8888888888888888, \"#fdca26\"], [1.0, \"#f0f921\"]], \"type\": \"histogram2d\"}], \"histogram2dcontour\": [{\"colorbar\": {\"outlinewidth\": 0, \"ticks\": \"\"}, \"colorscale\": [[0.0, \"#0d0887\"], [0.1111111111111111, \"#46039f\"], [0.2222222222222222, \"#7201a8\"], [0.3333333333333333, \"#9c179e\"], [0.4444444444444444, \"#bd3786\"], [0.5555555555555556, \"#d8576b\"], [0.6666666666666666, \"#ed7953\"], [0.7777777777777778, \"#fb9f3a\"], [0.8888888888888888, \"#fdca26\"], [1.0, \"#f0f921\"]], \"type\": \"histogram2dcontour\"}], \"mesh3d\": [{\"colorbar\": {\"outlinewidth\": 0, \"ticks\": \"\"}, \"type\": \"mesh3d\"}], \"parcoords\": [{\"line\": {\"colorbar\": {\"outlinewidth\": 0, \"ticks\": \"\"}}, \"type\": \"parcoords\"}], \"scatter\": [{\"marker\": {\"colorbar\": {\"outlinewidth\": 0, \"ticks\": \"\"}}, \"type\": \"scatter\"}], \"scatter3d\": [{\"line\": {\"colorbar\": {\"outlinewidth\": 0, \"ticks\": \"\"}}, \"marker\": {\"colorbar\": {\"outlinewidth\": 0, \"ticks\": \"\"}}, \"type\": \"scatter3d\"}], \"scattercarpet\": [{\"marker\": {\"colorbar\": {\"outlinewidth\": 0, \"ticks\": \"\"}}, \"type\": \"scattercarpet\"}], \"scattergeo\": [{\"marker\": {\"colorbar\": {\"outlinewidth\": 0, \"ticks\": \"\"}}, \"type\": \"scattergeo\"}], \"scattergl\": [{\"marker\": {\"colorbar\": {\"outlinewidth\": 0, \"ticks\": \"\"}}, \"type\": \"scattergl\"}], \"scattermapbox\": [{\"marker\": {\"colorbar\": {\"outlinewidth\": 0, \"ticks\": \"\"}}, \"type\": \"scattermapbox\"}], \"scatterpolar\": [{\"marker\": {\"colorbar\": {\"outlinewidth\": 0, \"ticks\": \"\"}}, \"type\": \"scatterpolar\"}], \"scatterpolargl\": [{\"marker\": {\"colorbar\": {\"outlinewidth\": 0, \"ticks\": \"\"}}, \"type\": \"scatterpolargl\"}], \"scatterternary\": [{\"marker\": {\"colorbar\": {\"outlinewidth\": 0, \"ticks\": \"\"}}, \"type\": \"scatterternary\"}], \"surface\": [{\"colorbar\": {\"outlinewidth\": 0, \"ticks\": \"\"}, \"colorscale\": [[0.0, \"#0d0887\"], [0.1111111111111111, \"#46039f\"], [0.2222222222222222, \"#7201a8\"], [0.3333333333333333, \"#9c179e\"], [0.4444444444444444, \"#bd3786\"], [0.5555555555555556, \"#d8576b\"], [0.6666666666666666, \"#ed7953\"], [0.7777777777777778, \"#fb9f3a\"], [0.8888888888888888, \"#fdca26\"], [1.0, \"#f0f921\"]], \"type\": \"surface\"}], \"table\": [{\"cells\": {\"fill\": {\"color\": \"#EBF0F8\"}, \"line\": {\"color\": \"white\"}}, \"header\": {\"fill\": {\"color\": \"#C8D4E3\"}, \"line\": {\"color\": \"white\"}}, \"type\": \"table\"}]}, \"layout\": {\"annotationdefaults\": {\"arrowcolor\": \"#2a3f5f\", \"arrowhead\": 0, \"arrowwidth\": 1}, \"colorscale\": {\"diverging\": [[0, \"#8e0152\"], [0.1, \"#c51b7d\"], [0.2, \"#de77ae\"], [0.3, \"#f1b6da\"], [0.4, \"#fde0ef\"], [0.5, \"#f7f7f7\"], [0.6, \"#e6f5d0\"], [0.7, \"#b8e186\"], [0.8, \"#7fbc41\"], [0.9, \"#4d9221\"], [1, \"#276419\"]], \"sequential\": [[0.0, \"#0d0887\"], [0.1111111111111111, \"#46039f\"], [0.2222222222222222, \"#7201a8\"], [0.3333333333333333, \"#9c179e\"], [0.4444444444444444, \"#bd3786\"], [0.5555555555555556, \"#d8576b\"], [0.6666666666666666, \"#ed7953\"], [0.7777777777777778, \"#fb9f3a\"], [0.8888888888888888, \"#fdca26\"], [1.0, \"#f0f921\"]], \"sequentialminus\": [[0.0, \"#0d0887\"], [0.1111111111111111, \"#46039f\"], [0.2222222222222222, \"#7201a8\"], [0.3333333333333333, \"#9c179e\"], [0.4444444444444444, \"#bd3786\"], [0.5555555555555556, \"#d8576b\"], [0.6666666666666666, \"#ed7953\"], [0.7777777777777778, \"#fb9f3a\"], [0.8888888888888888, \"#fdca26\"], [1.0, \"#f0f921\"]]}, \"colorway\": [\"#636efa\", \"#EF553B\", \"#00cc96\", \"#ab63fa\", \"#FFA15A\", \"#19d3f3\", \"#FF6692\", \"#B6E880\", \"#FF97FF\", \"#FECB52\"], \"font\": {\"color\": \"#2a3f5f\"}, \"geo\": {\"bgcolor\": \"white\", \"lakecolor\": \"white\", \"landcolor\": \"#E5ECF6\", \"showlakes\": true, \"showland\": true, \"subunitcolor\": \"white\"}, \"hoverlabel\": {\"align\": \"left\"}, \"hovermode\": \"closest\", \"mapbox\": {\"style\": \"light\"}, \"paper_bgcolor\": \"white\", \"plot_bgcolor\": \"#E5ECF6\", \"polar\": {\"angularaxis\": {\"gridcolor\": \"white\", \"linecolor\": \"white\", \"ticks\": \"\"}, \"bgcolor\": \"#E5ECF6\", \"radialaxis\": {\"gridcolor\": \"white\", \"linecolor\": \"white\", \"ticks\": \"\"}}, \"scene\": {\"xaxis\": {\"backgroundcolor\": \"#E5ECF6\", \"gridcolor\": \"white\", \"gridwidth\": 2, \"linecolor\": \"white\", \"showbackground\": true, \"ticks\": \"\", \"zerolinecolor\": \"white\"}, \"yaxis\": {\"backgroundcolor\": \"#E5ECF6\", \"gridcolor\": \"white\", \"gridwidth\": 2, \"linecolor\": \"white\", \"showbackground\": true, \"ticks\": \"\", \"zerolinecolor\": \"white\"}, \"zaxis\": {\"backgroundcolor\": \"#E5ECF6\", \"gridcolor\": \"white\", \"gridwidth\": 2, \"linecolor\": \"white\", \"showbackground\": true, \"ticks\": \"\", \"zerolinecolor\": \"white\"}}, \"shapedefaults\": {\"line\": {\"color\": \"#2a3f5f\"}}, \"ternary\": {\"aaxis\": {\"gridcolor\": \"white\", \"linecolor\": \"white\", \"ticks\": \"\"}, \"baxis\": {\"gridcolor\": \"white\", \"linecolor\": \"white\", \"ticks\": \"\"}, \"bgcolor\": \"#E5ECF6\", \"caxis\": {\"gridcolor\": \"white\", \"linecolor\": \"white\", \"ticks\": \"\"}}, \"title\": {\"x\": 0.05}, \"xaxis\": {\"automargin\": true, \"gridcolor\": \"white\", \"linecolor\": \"white\", \"ticks\": \"\", \"zerolinecolor\": \"white\", \"zerolinewidth\": 2}, \"yaxis\": {\"automargin\": true, \"gridcolor\": \"white\", \"linecolor\": \"white\", \"ticks\": \"\", \"zerolinecolor\": \"white\", \"zerolinewidth\": 2}}}, \"width\": 800, \"xaxis\": {\"dtick\": 10, \"linecolor\": \"rgb(102, 102, 102)\", \"showgrid\": false, \"showline\": true, \"showticklabels\": true, \"tickcolor\": \"rgb(102, 102, 102)\", \"tickfont\": {\"color\": \"rgb(102, 102, 102)\"}, \"ticks\": \"outside\"}},\n",
       "                        {\"responsive\": true}\n",
       "                    ).then(function(){\n",
       "                            \n",
       "var gd = document.getElementById('375048f5-fef3-4edb-a591-3cf6c969fc38');\n",
       "var x = new MutationObserver(function (mutations, observer) {{\n",
       "        var display = window.getComputedStyle(gd).display;\n",
       "        if (!display || display === 'none') {{\n",
       "            console.log([gd, 'removed!']);\n",
       "            Plotly.purge(gd);\n",
       "            observer.disconnect();\n",
       "        }}\n",
       "}});\n",
       "\n",
       "// Listen for the removal of the full notebook cells\n",
       "var notebookContainer = gd.closest('#notebook-container');\n",
       "if (notebookContainer) {{\n",
       "    x.observe(notebookContainer, {childList: true});\n",
       "}}\n",
       "\n",
       "// Listen for the clearing of the current output cell\n",
       "var outputEl = gd.closest('.output');\n",
       "if (outputEl) {{\n",
       "    x.observe(outputEl, {childList: true});\n",
       "}}\n",
       "\n",
       "                        })\n",
       "                };\n",
       "                });\n",
       "            </script>\n",
       "        </div>"
      ]
     },
     "metadata": {},
     "output_type": "display_data"
    }
   ],
   "source": [
    "import plotly.graph_objects as go\n",
    "\n",
    "\n",
    "\n",
    "fig = go.Figure()\n",
    "fig.add_trace(go.Scatter(\n",
    "    x=df_book_counts['book1'],\n",
    "    y=df_book_counts['index'],\n",
    "    marker=dict(color=\"crimson\", size=12),\n",
    "    mode=\"markers\",\n",
    "    name=\"Book 1\",\n",
    "))\n",
    "fig.add_trace(go.Scatter(\n",
    "    x=df_book_counts['book2'],\n",
    "    y=df_book_counts['index'],\n",
    "    marker=dict(color=\"gold\", size=12),\n",
    "    mode=\"markers\",\n",
    "    name=\"Book 2\",\n",
    "       ))\n",
    "\n",
    "fig.add_trace(go.Scatter(\n",
    "    x=df_book_counts['book3'],\n",
    "    y=df_book_counts['index'],\n",
    "    marker=dict(color=\"blue\", size=12),\n",
    "    mode=\"markers\",\n",
    "    name=\"Book 3\",\n",
    "       ))\n",
    "\n",
    "\n",
    "fig.update_layout(\n",
    "    xaxis=dict(\n",
    "        showgrid=False,\n",
    "        showline=True,\n",
    "        linecolor='rgb(102, 102, 102)',\n",
    "        tickfont_color='rgb(102, 102, 102)',\n",
    "        showticklabels=True,\n",
    "        dtick=10,\n",
    "        ticks='outside',\n",
    "        tickcolor='rgb(102, 102, 102)',\n",
    "    ),\n",
    "    margin=dict(l=140, r=40, b=50, t=80),\n",
    "    legend=dict(\n",
    "        font_size=10,\n",
    "        yanchor='middle',\n",
    "        xanchor='right',\n",
    "    ),\n",
    "    width=800,\n",
    "    height=600,\n",
    "    paper_bgcolor='white',\n",
    "    plot_bgcolor='white',\n",
    "    hovermode='closest',\n",
    ")\n",
    "fig.show()\n",
    "\n",
    "fig.show()\n"
   ]
  },
  {
   "cell_type": "code",
   "execution_count": null,
   "metadata": {},
   "outputs": [],
   "source": []
  },
  {
   "cell_type": "code",
   "execution_count": 134,
   "metadata": {},
   "outputs": [
    {
     "name": "stdout",
     "output_type": "stream",
     "text": [
      "Collecting plotly\n",
      "\u001b[?25l  Downloading https://files.pythonhosted.org/packages/58/f3/a49d3281cc7275164ecf89ad3497556b11d9661faa119becdf7f9d3b2125/plotly-4.0.0-py2.py3-none-any.whl (6.8MB)\n",
      "\u001b[K    100% |████████████████████████████████| 6.8MB 4.9MB/s eta 0:00:01\n",
      "\u001b[?25hRequirement already satisfied: six in /Users/humeralodhi/.pyenv/versions/3.7.1/lib/python3.7/site-packages (from plotly) (1.12.0)\n",
      "Collecting retrying>=1.3.3 (from plotly)\n",
      "  Downloading https://files.pythonhosted.org/packages/44/ef/beae4b4ef80902f22e3af073397f079c96969c69b2c7d52a57ea9ae61c9d/retrying-1.3.3.tar.gz\n",
      "\u001b[31msqlalchemy-migrate 0.12.0 has requirement SQLAlchemy>=0.9.6, but you'll have sqlalchemy 0.7.10 which is incompatible.\u001b[0m\n",
      "Installing collected packages: retrying, plotly\n",
      "  Running setup.py install for retrying ... \u001b[?25ldone\n",
      "\u001b[?25hSuccessfully installed plotly-4.0.0 retrying-1.3.3\n",
      "\u001b[33mYou are using pip version 10.0.1, however version 19.2.1 is available.\n",
      "You should consider upgrading via the 'pip install --upgrade pip' command.\u001b[0m\n"
     ]
    }
   ],
   "source": [
    "! pip install plotly"
   ]
  },
  {
   "cell_type": "code",
   "execution_count": null,
   "metadata": {},
   "outputs": [],
   "source": []
  }
 ],
 "metadata": {
  "kernelspec": {
   "display_name": "Python 3",
   "language": "python",
   "name": "python3"
  },
  "language_info": {
   "codemirror_mode": {
    "name": "ipython",
    "version": 3
   },
   "file_extension": ".py",
   "mimetype": "text/x-python",
   "name": "python",
   "nbconvert_exporter": "python",
   "pygments_lexer": "ipython3",
   "version": "3.7.1"
  }
 },
 "nbformat": 4,
 "nbformat_minor": 2
}
